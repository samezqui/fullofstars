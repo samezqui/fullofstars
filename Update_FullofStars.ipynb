{
  "nbformat": 4,
  "nbformat_minor": 0,
  "metadata": {
    "colab": {
      "name": "FullofStars.ipynb",
      "version": "0.3.2",
      "provenance": [],
      "collapsed_sections": [],
      "include_colab_link": true
    },
    "kernelspec": {
      "name": "python3",
      "display_name": "Python 3"
    }
  },
  "cells": [
    {
      "cell_type": "markdown",
      "metadata": {
        "id": "view-in-github",
        "colab_type": "text"
      },
      "source": [
        "<a href=\"https://colab.research.google.com/github/samezqui/fullofstars/blob/star_move/Update_FullofStars.ipynb\" target=\"_parent\"><img src=\"https://colab.research.google.com/assets/colab-badge.svg\" alt=\"Open In Colab\"/></a>"
      ]
    },
    {
      "metadata": {
        "id": "upKuqOTkXQXT",
        "colab_type": "code",
        "colab": {
          "base_uri": "https://localhost:8080/",
          "height": 408
        },
        "outputId": "f3805da2-fbbf-4d2e-d801-a80a46803c7d"
      },
      "cell_type": "code",
      "source": [
        "!pip install pandas\n",
        "!pip install skyfield\n",
        "\n",
        "from skyfield.api import Star, load\n",
        "from skyfield.data import hipparcos\n",
        "\n"
      ],
      "execution_count": 1,
      "outputs": [
        {
          "output_type": "stream",
          "text": [
            "Requirement already satisfied: pandas in /usr/local/lib/python3.6/dist-packages (0.24.2)\n",
            "Requirement already satisfied: pytz>=2011k in /usr/local/lib/python3.6/dist-packages (from pandas) (2018.9)\n",
            "Requirement already satisfied: numpy>=1.12.0 in /usr/local/lib/python3.6/dist-packages (from pandas) (1.16.3)\n",
            "Requirement already satisfied: python-dateutil>=2.5.0 in /usr/local/lib/python3.6/dist-packages (from pandas) (2.5.3)\n",
            "Requirement already satisfied: six>=1.5 in /usr/local/lib/python3.6/dist-packages (from python-dateutil>=2.5.0->pandas) (1.12.0)\n",
            "Collecting skyfield\n",
            "\u001b[?25l  Downloading https://files.pythonhosted.org/packages/df/b8/916a2423326d1c615312516221ac85ea2531d2d596cee5cb6b2c78b58f6e/skyfield-1.10.tar.gz (211kB)\n",
            "\u001b[K     |████████████████████████████████| 215kB 4.8MB/s \n",
            "\u001b[?25hCollecting jplephem>=2.3 (from skyfield)\n",
            "  Downloading https://files.pythonhosted.org/packages/14/6f/354fd50e625a66c7be3f08095c0e1fa389c75453858acf2689ffa9c4fc54/jplephem-2.9.tar.gz\n",
            "Requirement already satisfied: numpy in /usr/local/lib/python3.6/dist-packages (from skyfield) (1.16.3)\n",
            "Collecting sgp4>=1.4 (from skyfield)\n",
            "  Downloading https://files.pythonhosted.org/packages/d2/00/3f3699203176017211a71fe16e3fa71bae946ac92ade77d5a2ffc5da8576/sgp4-1.4.tar.gz\n",
            "Building wheels for collected packages: skyfield, jplephem, sgp4\n",
            "  Building wheel for skyfield (setup.py) ... \u001b[?25l\u001b[?25hdone\n",
            "  Stored in directory: /root/.cache/pip/wheels/8e/9e/57/2abcf750273b685ca923f7e3d7034ec4f91ef2ebfac616437b\n",
            "  Building wheel for jplephem (setup.py) ... \u001b[?25l\u001b[?25hdone\n",
            "  Stored in directory: /root/.cache/pip/wheels/13/d3/06/3799163edac5d1f454832143f7730413dcc56f42acfbb9f0d3\n",
            "  Building wheel for sgp4 (setup.py) ... \u001b[?25l\u001b[?25hdone\n",
            "  Stored in directory: /root/.cache/pip/wheels/6d/e2/42/5dc20daf2ba62ae03dc8abe10744ee67d9452df447dac561db\n",
            "Successfully built skyfield jplephem sgp4\n",
            "Installing collected packages: jplephem, sgp4, skyfield\n",
            "Successfully installed jplephem-2.9 sgp4-1.4 skyfield-1.10\n"
          ],
          "name": "stdout"
        }
      ]
    },
    {
      "metadata": {
        "colab_type": "code",
        "outputId": "054987a5-f1d7-4966-fe1a-28801f0815e6",
        "id": "bC0eh3iBwG79",
        "colab": {
          "base_uri": "https://localhost:8080/",
          "height": 2547
        }
      },
      "cell_type": "code",
      "source": [
        "# you need to load everytime you filter!!\n",
        "\n",
        "with load.open(hipparcos.URL) as f:\n",
        "    df = hipparcos.load_dataframe(f) \n",
        "print(df)\n",
        "# hipparcos only provides stars based on #ID, its magnitude and location \n",
        "# in dec and ra \n",
        "    \n",
        "df = df[df['magnitude'] <= 2.5] # Bigger number = more stars \n",
        "print('After filtering, there are {} stars'.format(len(df)))\n",
        "\n",
        "bright_stars = Star.from_dataframe(df)\n",
        "planets = load('de421.bsp')\n",
        "earth = planets['earth']\n",
        "\n",
        "ts = load.timescale()\n",
        "t = ts.now()\n",
        "  # ts.utc(2018, 9, 3)\n",
        "  # time doesn't matter??? \n",
        "astrometric = earth.at(t).observe(bright_stars)\n",
        "ra, dec, distance = astrometric.radec()\n",
        "\n",
        "print('There are {} right ascensions'.format(len(ra.hours)))\n",
        "print('and {} declinations'.format(len(dec.degrees)))\n",
        "\n",
        "from matplotlib import pyplot as plt\n",
        "plt.scatter(ra.hours, dec.degrees, 9 - df['magnitude'], 'k')\n",
        "plt.xlim(7, 4)\n",
        "plt.ylim(-20, 20)\n",
        "# plt.savefig('bright_stars.png')\n",
        "print(' ')\n",
        "print('Super cool but not what I need. Not relative positions from earth ')"
      ],
      "execution_count": 18,
      "outputs": [
        {
          "output_type": "stream",
          "text": [
            "        magnitude  ra_degrees  dec_degrees  parallax_mas  ra_mas_per_year  \\\n",
            "hip                                                                         \n",
            "1            9.10    0.000912     1.089013          3.54            -5.20   \n",
            "2            9.27    0.003797   -19.498837         21.90           181.21   \n",
            "3            6.61    0.005008    38.859286          2.81             5.24   \n",
            "4            8.06    0.008382   -51.893546          7.75            62.85   \n",
            "5            8.55    0.009965   -40.591224          2.87             2.53   \n",
            "6           12.31    0.018141     3.946489         18.80           226.29   \n",
            "7            9.64    0.022549    20.036602         17.74          -208.12   \n",
            "8            9.05    0.027292    25.886474          5.17            19.09   \n",
            "9            8.59    0.035342    36.585938          4.81            -6.30   \n",
            "10           8.59    0.036253   -50.867074         10.76            42.23   \n",
            "11           7.34    0.037297    46.940002          4.29            11.09   \n",
            "12           8.43    0.040918   -35.960225          4.06            -5.99   \n",
            "13           8.80    0.041680   -22.594681          3.49             8.45   \n",
            "14           7.25    0.048272    -0.360421          5.11            61.75   \n",
            "15           8.60    0.050309    50.791174          2.45            13.88   \n",
            "17           8.15    0.051100   -40.192328          6.15           -34.46   \n",
            "16          11.71    0.051409   -54.914128          0.53           257.39   \n",
            "18          11.03    0.053139    -4.053738         19.93          -127.22   \n",
            "19           6.53    0.053317    38.304086          4.12            -2.50   \n",
            "20           8.51    0.062951    23.529284         10.76            36.00   \n",
            "21           7.55    0.066236     8.007234          5.84            61.89   \n",
            "22           8.69    0.070136   -49.352267          4.47            -7.90   \n",
            "23           7.57    0.074429    13.312211         12.21            54.15   \n",
            "24           9.05    0.076050   -23.452749          9.73           127.15   \n",
            "25           6.28    0.079365   -44.290297         13.74            58.36   \n",
            "26           9.13    0.084346   -13.393297          9.19          -103.33   \n",
            "27           9.32    0.085470   -41.297537          9.66           135.96   \n",
            "28           8.83    0.087249   -43.361800          5.64           -10.96   \n",
            "29           9.14    0.092131   -49.107955          2.85            26.86   \n",
            "30           8.26    0.096136    42.141499          3.79            -8.44   \n",
            "...           ...         ...          ...           ...              ...   \n",
            "118293       7.49  359.895639    -1.849992         12.56           150.73   \n",
            "118294       8.69  359.896245    -7.810509          8.09           -17.82   \n",
            "118295       8.43  359.898237    29.057497          2.95            -8.36   \n",
            "118296       9.23  359.910489   -49.832458          7.96           -39.18   \n",
            "118297       7.88  359.914700    37.799627          2.75             6.69   \n",
            "118298       6.55  359.919268    -5.892913          6.78            35.75   \n",
            "118300       9.52  359.925010   -51.620858          3.69             1.08   \n",
            "118299       9.07  359.925394   -34.998042          3.97            51.38   \n",
            "118301       7.67  359.930069    21.289203          5.54            55.58   \n",
            "118302       7.78  359.932400   -24.645198          2.35           -23.63   \n",
            "118303       7.94  359.934256    62.991691          2.41             4.88   \n",
            "118304       8.27  359.936090   -32.210642          3.88             5.16   \n",
            "118305      11.94  359.936426     8.689172         10.07            94.36   \n",
            "118306       7.28  359.942017   -50.999149          5.78            15.90   \n",
            "118307       6.83  359.943728    -0.280053          2.67            -5.14   \n",
            "118308       9.93  359.948880    50.112499         19.39           434.10   \n",
            "118309       6.74  359.949220    11.273424          5.87            10.39   \n",
            "118310       8.85  359.949257     6.664565         39.43           -60.87   \n",
            "118312       8.35  359.954434    -2.112552          7.22            80.82   \n",
            "118311      11.85  359.954685   -38.252603         24.63           337.76   \n",
            "118313       8.94  359.955817    21.149740          2.32             0.28   \n",
            "118314       9.27  359.956824   -37.857956          0.93            -6.60   \n",
            "118315       8.47  359.959081   -18.507288          3.00             6.81   \n",
            "118316       9.51  359.960899    32.536933          3.10            40.44   \n",
            "118317      10.01  359.961701   -36.419481          3.42            31.41   \n",
            "118318       6.99  359.963744    11.673709          1.92            -2.16   \n",
            "118319       8.23  359.973913   -22.428180         10.63           148.74   \n",
            "118320       7.59  359.976057     5.956638          5.00            20.92   \n",
            "118321       9.20  359.978239   -64.372572         19.22           216.99   \n",
            "118322       4.49  359.978792   -65.577078          8.71            48.63   \n",
            "\n",
            "        dec_mas_per_year   ra_hours  epoch_year  \n",
            "hip                                              \n",
            "1                  -1.88   0.000061     1991.25  \n",
            "2                  -0.93   0.000253     1991.25  \n",
            "3                  -2.91   0.000334     1991.25  \n",
            "4                   0.16   0.000559     1991.25  \n",
            "5                   9.07   0.000664     1991.25  \n",
            "6                 -12.84   0.001209     1991.25  \n",
            "7                -200.79   0.001503     1991.25  \n",
            "8                  -5.66   0.001819     1991.25  \n",
            "9                   8.42   0.002356     1991.25  \n",
            "10                 40.02   0.002417     1991.25  \n",
            "11                 -2.02   0.002486     1991.25  \n",
            "12                 -0.10   0.002728     1991.25  \n",
            "13                -10.07   0.002779     1991.25  \n",
            "14                -11.67   0.003218     1991.25  \n",
            "15                  5.47   0.003354     1991.25  \n",
            "17                -26.37   0.003407     1991.25  \n",
            "16                -96.63   0.003427     1991.25  \n",
            "18                 23.78   0.003543     1991.25  \n",
            "19                -15.07   0.003554     1991.25  \n",
            "20                -22.98   0.004197     1991.25  \n",
            "21                 -0.22   0.004416     1991.25  \n",
            "22                  0.46   0.004676     1991.25  \n",
            "23                  9.65   0.004962     1991.25  \n",
            "24                 22.22   0.005070     1991.25  \n",
            "25               -108.64   0.005291     1991.25  \n",
            "26                -33.35   0.005623     1991.25  \n",
            "27               -113.67   0.005698     1991.25  \n",
            "28                 -8.69   0.005817     1991.25  \n",
            "29                  4.05   0.006142     1991.25  \n",
            "30                -10.14   0.006409     1991.25  \n",
            "...                  ...        ...         ...  \n",
            "118293             29.99  23.993043     1991.25  \n",
            "118294           -158.38  23.993083     1991.25  \n",
            "118295             -8.05  23.993216     1991.25  \n",
            "118296            -23.57  23.994033     1991.25  \n",
            "118297             -8.23  23.994313     1991.25  \n",
            "118298            -57.44  23.994618     1991.25  \n",
            "118300              4.25  23.995001     1991.25  \n",
            "118299            -29.41  23.995026     1991.25  \n",
            "118301            -63.96  23.995338     1991.25  \n",
            "118302            -12.42  23.995493     1991.25  \n",
            "118303             -5.53  23.995617     1991.25  \n",
            "118304            -32.64  23.995739     1991.25  \n",
            "118305              9.52  23.995762     1991.25  \n",
            "118306            -43.70  23.996134     1991.25  \n",
            "118307            -25.43  23.996249     1991.25  \n",
            "118308              9.56  23.996592     1991.25  \n",
            "118309              1.62  23.996615     1991.25  \n",
            "118310           -169.17  23.996617     1991.25  \n",
            "118312            -21.41  23.996962     1991.25  \n",
            "118311           -112.81  23.996979     1991.25  \n",
            "118313            -15.77  23.997054     1991.25  \n",
            "118314             -4.60  23.997122     1991.25  \n",
            "118315             -1.29  23.997272     1991.25  \n",
            "118316             -1.43  23.997393     1991.25  \n",
            "118317             -5.41  23.997447     1991.25  \n",
            "118318              2.09  23.997583     1991.25  \n",
            "118319             27.53  23.998261     1991.25  \n",
            "118320            -35.26  23.998404     1991.25  \n",
            "118321            106.46  23.998549     1991.25  \n",
            "118322            -22.33  23.998586     1991.25  \n",
            "\n",
            "[118218 rows x 8 columns]\n",
            "After filtering, there are 93 stars\n",
            "There are 93 right ascensions\n",
            "and 93 declinations\n",
            " \n",
            "Super cool but not what I need. Not relative positions from earth \n"
          ],
          "name": "stdout"
        },
        {
          "output_type": "display_data",
          "data": {
            "image/png": "[encoded data removed]",
            "text/plain": [
              "<Figure size 432x288 with 1 Axes>"
            ]
          },
          "metadata": {
            "tags": []
          }
        }
      ]
    },
    {
      "metadata": {
        "id": "Xe4RApR73QEs",
        "colab_type": "text"
      },
      "cell_type": "markdown",
      "source": [
        "# Generating Positions of Stars\n",
        "\n",
        "The zenith is the point exactly overheard when you look up from the ground. Which is 90 degs from the horizon. 90degs Altitude\n",
        "\n",
        "https://physics.weber.edu/schroeder/ua/StarMotion.html "
      ]
    },
    {
      "metadata": {
        "id": "TtGq4_fe3OuG",
        "colab_type": "code",
        "colab": {
          "base_uri": "https://localhost:8080/",
          "height": 85
        },
        "outputId": "6dd78f28-54a6-45c7-eb39-b541120f801b"
      },
      "cell_type": "code",
      "source": [
        "from skyfield.positionlib import ICRF\n",
        "\n",
        "x = 3141.0\n",
        "y = 2718.0\n",
        "z = 5820.0\n",
        "vec = ICRF([x, y, z]) \n",
        "\n",
        "from skyfield.api import Star, Topos, load\n",
        "\n",
        "ts = load.timescale()\n",
        "t = ts.now()\n",
        "# tying in time\n",
        "# https://rhodesmill.org/skyfield/time.html \n",
        "\n",
        "planets = load('de421.bsp')\n",
        "mars = planets['mars']\n",
        "barnard = Star(ra_hours=(17, 57, 48.49803),\n",
        "               dec_degrees=(4, 41, 36.2072))\n",
        "# defined stars\n",
        "\n",
        "\n",
        "# From the center of the Earth (Geocentric)\n",
        "\n",
        "earth = planets['earth']\n",
        "astrometric = earth.at(t).observe(barnard)\n",
        "apparent = earth.at(t).observe(barnard).apparent()\n",
        "  # can replace mars with barnard\n",
        "  \n",
        " \n",
        "# From a place on Earth (Topocentric)\n",
        "\n",
        "Notre_Dame = earth + Topos('41.7001 N', '86.2379 W') # South Quad coordinates \n",
        "astrometric = Notre_Dame.at(t).observe(barnard)\n",
        "apparent = Notre_Dame.at(t).observe(barnard).apparent()\n",
        "  # can replace Mars with barnard\n",
        "  # can replace barnard with Mars \n",
        "  \n",
        "  \n",
        "# Altitude and azimuth in the sky of a\n",
        "# specific geographic location\n",
        "\n",
        "\n",
        "astro = Notre_Dame.at(ts.utc(2009, 8, 1)).observe(barnard)\n",
        "# t = ts.utc(year, month, day) at midnight\n",
        "\n",
        "app = astro.apparent()\n",
        "\n",
        "alt, az, distance = app.altaz()\n",
        "print(alt.dstr()) # display altitude\n",
        "print(az.dstr())  # display azimuth \n",
        "print(distance)   # distance away \n",
        "\n",
        "print('So Barnard was more than 34° above the horizon for the Irish on 2009 Aug 1 at midnight UTC.')\n",
        "# This is just a string that must be updated with every change and run\n",
        "\n",
        "# plot this using polar coordinates\n",
        "\n"
      ],
      "execution_count": 7,
      "outputs": [
        {
          "output_type": "stream",
          "text": [
            "34deg 47' 36.6\"\n",
            "119deg 03' 16.6\"\n",
            "2.06265e+14 au\n",
            "So Barnard was more than 34° above the horizon for the Irish on 2009 Aug 1 at midnight UTC.\n"
          ],
          "name": "stdout"
        }
      ]
    },
    {
      "metadata": {
        "id": "9sPURrYg59HV",
        "colab_type": "text"
      },
      "cell_type": "markdown",
      "source": [
        "# Function to Plot Sky Map"
      ]
    },
    {
      "metadata": {
        "id": "77AYPKxk58do",
        "colab_type": "code",
        "colab": {}
      },
      "cell_type": "code",
      "source": [
        "def plot_star():\n",
        "  import matplotlib.pyplot as plt \n",
        "  ax = plt.gca(projection='polar')\n",
        "  "
      ],
      "execution_count": 0,
      "outputs": []
    },
    {
      "metadata": {
        "id": "baXoEDCGSLX-",
        "colab_type": "text"
      },
      "cell_type": "markdown",
      "source": [
        "#Weather Affects Refraction of Light from Stars\n",
        "The altitude returned from a plain altaz() call is the ideal position that you would observe if the Earth had no atmosphere. You can also ask Skyfield to estimate where an object might actually appear in the sky after the Earth’s atmosphere has refracted its image higher. If you know the weather conditions, you can specify them."
      ]
    },
    {
      "metadata": {
        "id": "yJCq_vYVSMsy",
        "colab_type": "code",
        "colab": {
          "base_uri": "https://localhost:8080/",
          "height": 34
        },
        "outputId": "cab01050-49eb-4350-ee82-637c9f03f7ca"
      },
      "cell_type": "code",
      "source": [
        "alt, az, distance = app.altaz(temperature_C=15.0,\n",
        "                              pressure_mbar=1005.0)\n",
        "# or use standard for rough simulation \n",
        "# alt, az, distance = app.altaz('standard')\n",
        "print(alt.dstr())"
      ],
      "execution_count": 5,
      "outputs": [
        {
          "output_type": "stream",
          "text": [
            "24deg 32' 34.1\"\n"
          ],
          "name": "stdout"
        }
      ]
    },
    {
      "metadata": {
        "id": "TAhcv39_qtwT",
        "colab_type": "text"
      },
      "cell_type": "markdown",
      "source": [
        "#Figuring out how to plot\n",
        "\n",
        "We're gonna use Astropy\n"
      ]
    },
    {
      "metadata": {
        "colab_type": "code",
        "outputId": "d08bdfe5-d7c8-4048-dd4b-26d4742cb284",
        "id": "mg-T-HYj_c9Y",
        "colab": {
          "base_uri": "https://localhost:8080/",
          "height": 136
        }
      },
      "cell_type": "code",
      "source": [
        "!pip install astropy\n",
        "from astropy.time import Time\n",
        "from skyfield.api import load\n",
        "\n",
        "atime = Time('2010-01-01T00:00:00', scale='utc')\n",
        "print(atime)\n",
        "\n",
        "ts = load.timescale()\n",
        "t = ts.from_astropy(atime)\n",
        "print(t.utc_jpl())\n",
        "\n",
        "# Convert Positions \n",
        "import astropy.units as u\n",
        "from skyfield.api import load\n",
        "\n",
        "planets = load('de421.bsp')\n",
        "earth = planets['earth']\n",
        "\n",
        "ts = load.timescale()\n",
        "t = ts.utc(1980, 1, 1)\n",
        "apparent = earth.at(t)\n",
        "\n",
        "print(apparent.position.to(u.au))\n",
        "print(apparent.velocity.to(u.au / u.day))\n",
        "\n",
        "ra, dec, distance = apparent.radec()\n",
        "declination = dec.to(u.deg)\n",
        "# what we need for skycoord \n",
        "\n",
        "\n",
        "print('{0:0.03f}'.format(declination)) "
      ],
      "execution_count": 17,
      "outputs": [
        {
          "output_type": "stream",
          "text": [
            "Requirement already satisfied: astropy in /usr/local/lib/python3.6/dist-packages (3.0.5)\n",
            "Requirement already satisfied: numpy>=1.10.0 in /usr/local/lib/python3.6/dist-packages (from astropy) (1.16.3)\n",
            "2010-01-01T00:00:00.000\n",
            "A.D. 2010-Jan-01 00:00:00.0000 UT\n",
            "[-0.16287311  0.88787399  0.38473904] AU\n",
            "[-0.01721258 -0.00279426 -0.0012121 ] AU / d\n",
            "23.084 deg\n"
          ],
          "name": "stdout"
        }
      ]
    },
    {
      "metadata": {
        "id": "abV3UaR-CAa7",
        "colab_type": "text"
      },
      "cell_type": "markdown",
      "source": [
        "https://astroplan.readthedocs.io/en/latest/_modules/astroplan/plots/sky.html#plot_sky "
      ]
    }
  ]
}