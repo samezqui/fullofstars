{
  "nbformat": 4,
  "nbformat_minor": 0,
  "metadata": {
    "colab": {
      "name": "FullofStars.ipynb",
      "version": "0.3.2",
      "provenance": [],
      "collapsed_sections": [],
      "include_colab_link": true
    },
    "kernelspec": {
      "name": "python3",
      "display_name": "Python 3"
    }
  },
  "cells": [
    {
      "cell_type": "markdown",
      "metadata": {
        "id": "view-in-github",
        "colab_type": "text"
      },
      "source": [
        "<a href=\"https://colab.research.google.com/github/samezqui/fullofstars/blob/skymap/failed_astropy_FullofStars.ipynb\" target=\"_parent\"><img src=\"https://colab.research.google.com/assets/colab-badge.svg\" alt=\"Open In Colab\"/></a>"
      ]
    },
    {
      "metadata": {
        "id": "upKuqOTkXQXT",
        "colab_type": "code",
        "colab": {
          "base_uri": "https://localhost:8080/",
          "height": 170
        },
        "outputId": "fa8e3549-8274-4279-e231-97c2c8a3b385"
      },
      "cell_type": "code",
      "source": [
        "!pip install pandas\n",
        "!pip install skyfield\n",
        "\n",
        "from skyfield.api import Star, load\n",
        "from skyfield.data import hipparcos\n",
        "\n"
      ],
      "execution_count": 8,
      "outputs": [
        {
          "output_type": "stream",
          "text": [
            "Requirement already satisfied: pandas in /usr/local/lib/python3.6/dist-packages (0.24.2)\n",
            "Requirement already satisfied: python-dateutil>=2.5.0 in /usr/local/lib/python3.6/dist-packages (from pandas) (2.5.3)\n",
            "Requirement already satisfied: numpy>=1.12.0 in /usr/local/lib/python3.6/dist-packages (from pandas) (1.16.3)\n",
            "Requirement already satisfied: pytz>=2011k in /usr/local/lib/python3.6/dist-packages (from pandas) (2018.9)\n",
            "Requirement already satisfied: six>=1.5 in /usr/local/lib/python3.6/dist-packages (from python-dateutil>=2.5.0->pandas) (1.12.0)\n",
            "Requirement already satisfied: skyfield in /usr/local/lib/python3.6/dist-packages (1.10)\n",
            "Requirement already satisfied: jplephem>=2.3 in /usr/local/lib/python3.6/dist-packages (from skyfield) (2.9)\n",
            "Requirement already satisfied: numpy in /usr/local/lib/python3.6/dist-packages (from skyfield) (1.16.3)\n",
            "Requirement already satisfied: sgp4>=1.4 in /usr/local/lib/python3.6/dist-packages (from skyfield) (1.4)\n"
          ],
          "name": "stdout"
        }
      ]
    },
    {
      "metadata": {
        "id": "flAoguEtbEIU",
        "colab_type": "code",
        "colab": {
          "base_uri": "https://localhost:8080/",
          "height": 303
        },
        "outputId": "edb472c8-10c7-4bbb-aec9-7b211987fd99"
      },
      "cell_type": "code",
      "source": [
        "with load.open(hipparcos.URL) as f:\n",
        "    df = hipparcos.load_dataframe(f)\n",
        "    \n",
        "barnards_star = Star.from_dataframe(df.loc[87937]) # fastest star moving\n",
        "\n",
        "planets = load('de421.bsp')\n",
        "earth = planets['earth']\n",
        "\n",
        "ts = load.timescale()\n",
        "t = ts.now()\n",
        "astrometric = earth.at(t).observe(barnards_star)\n",
        "ra, dec, distance = astrometric.radec()\n",
        "\n",
        "from matplotlib import pyplot as plt\n",
        "plt.scatter(ra.hours, dec.degrees, 10 - df['magnitude'], 'k')\n",
        "plt.xlim(4,7 )\n",
        "plt.ylim(-20, 20)\n",
        "plt.savefig('barnards_star.png')\n",
        "\n",
        "# couldn't find barnard's star"
      ],
      "execution_count": 7,
      "outputs": [
        {
          "output_type": "stream",
          "text": [
            "/usr/local/lib/python3.6/dist-packages/matplotlib/collections.py:874: RuntimeWarning: invalid value encountered in sqrt\n",
            "  scale = np.sqrt(self._sizes) * dpi / 72.0 * self._factor\n"
          ],
          "name": "stderr"
        },
        {
          "output_type": "display_data",
          "data": {
            "image/png": "[encoded data removed]",
            "text/plain": [
              "<Figure size 432x288 with 1 Axes>"
            ]
          },
          "metadata": {
            "tags": []
          }
        }
      ]
    },
    {
      "metadata": {
        "colab_type": "code",
        "outputId": "b68285d6-3df6-429a-9fcc-0d6c53f7b5c6",
        "id": "bC0eh3iBwG79",
        "colab": {
          "base_uri": "https://localhost:8080/",
          "height": 354
        }
      },
      "cell_type": "code",
      "source": [
        "# you need to load everytime you filter!!\n",
        "\n",
        "with load.open(hipparcos.URL) as f:\n",
        "    df = hipparcos.load_dataframe(f) \n",
        "    \n",
        "df = df[df['magnitude'] <= 2.5] # Bigger number = more stars \n",
        "print('After filtering, there are {} stars'.format(len(df)))\n",
        "\n",
        "bright_stars = Star.from_dataframe(df)\n",
        "\n",
        "t = ts.now()\n",
        "  # ts.utc(2018, 9, 3)\n",
        "  # time doesn't matter??? \n",
        "astrometric = earth.at(t).observe(bright_stars)\n",
        "ra, dec, distance = astrometric.radec()\n",
        "\n",
        "print('There are {} right ascensions'.format(len(ra.hours)))\n",
        "print('and {} declinations'.format(len(dec.degrees)))\n",
        "\n",
        "from matplotlib import pyplot as plt\n",
        "plt.scatter(ra.hours, dec.degrees, 9 - df['magnitude'], 'k')\n",
        "plt.xlim(7, 4)\n",
        "plt.ylim(-20, 20)\n",
        "# plt.savefig('bright_stars.png')\n",
        "print(' ')\n",
        "print('Super cool but not what I need. Not relative positions from earth ')"
      ],
      "execution_count": 10,
      "outputs": [
        {
          "output_type": "stream",
          "text": [
            "After filtering, there are 93 stars\n",
            "There are 93 right ascensions\n",
            "and 93 declinations\n",
            " \n",
            "Super cool but not what I need. Not relative positions from earth \n"
          ],
          "name": "stdout"
        },
        {
          "output_type": "display_data",
          "data": {
            "image/png": "[encoded data removed]",
            "text/plain": [
              "<Figure size 432x288 with 1 Axes>"
            ]
          },
          "metadata": {
            "tags": []
          }
        }
      ]
    },
    {
      "metadata": {
        "id": "Xe4RApR73QEs",
        "colab_type": "text"
      },
      "cell_type": "markdown",
      "source": [
        "# Generating Positions of Stars\n",
        "\n",
        "The zenith is the point exactly overheard when you look up from the ground. Which is 90 degs from the horizon. 90degs Altitude"
      ]
    },
    {
      "metadata": {
        "id": "TtGq4_fe3OuG",
        "colab_type": "code",
        "colab": {
          "base_uri": "https://localhost:8080/",
          "height": 85
        },
        "outputId": "0a216f65-d40e-42fa-c6db-f3ebdfb01fca"
      },
      "cell_type": "code",
      "source": [
        "from skyfield.positionlib import ICRF\n",
        "\n",
        "x = 3141.0\n",
        "y = 2718.0\n",
        "z = 5820.0\n",
        "vec = ICRF([x, y, z]) \n",
        "\n",
        "from skyfield.api import Star, Topos, load\n",
        "\n",
        "ts = load.timescale()\n",
        "t = ts.now()\n",
        "# tying in time\n",
        "# https://rhodesmill.org/skyfield/time.html \n",
        "\n",
        "planets = load('de421.bsp')\n",
        "mars = planets['mars']\n",
        "barnard = Star(ra_hours=(17, 57, 48.49803),\n",
        "               dec_degrees=(4, 41, 36.2072))\n",
        "\n",
        "\n",
        "# From the center of the Earth (Geocentric)\n",
        "\n",
        "earth = planets['earth']\n",
        "astrometric = earth.at(t).observe(mars)\n",
        "apparent = earth.at(t).observe(mars).apparent()\n",
        "  # can replace mars with barnard\n",
        "  \n",
        " \n",
        "# From a place on Earth (Topocentric)\n",
        "\n",
        "boston = earth + Topos('42.3583 N', '71.0603 W')\n",
        "astrometric = boston.at(t).observe(mars)\n",
        "apparent = boston.at(t).observe(mars).apparent()\n",
        "  # can replace mars with barnard \n",
        "  \n",
        "  \n",
        "# Altitude and azimuth in the sky of a\n",
        "# specific geographic location\n",
        "\n",
        "\n",
        "astro = boston.at(ts.utc(1980, 3, 1)).observe(mars)\n",
        "app = astro.apparent()\n",
        "\n",
        "alt, az, distance = app.altaz()\n",
        "print(alt.dstr())\n",
        "print(az.dstr())\n",
        "print(distance)\n",
        "\n",
        "print('So Mars was more than 24° above the horizon for Bostonians on 1980 March 1 at midnight UTC.')"
      ],
      "execution_count": 11,
      "outputs": [
        {
          "output_type": "stream",
          "text": [
            "24deg 30' 27.2\"\n",
            "93deg 04' 29.5\"\n",
            "0.678874 au\n",
            "So Mars was more than 24° above the horizon for Bostonians on 1980 March 1 at midnight UTC.\n"
          ],
          "name": "stdout"
        }
      ]
    },
    {
      "metadata": {
        "id": "baXoEDCGSLX-",
        "colab_type": "text"
      },
      "cell_type": "markdown",
      "source": [
        "#Weather Affects Refraction of Light from Stars\n",
        "The altitude returned from a plain altaz() call is the ideal position that you would observe if the Earth had no atmosphere. You can also ask Skyfield to estimate where an object might actually appear in the sky after the Earth’s atmosphere has refracted its image higher. If you know the weather conditions, you can specify them."
      ]
    },
    {
      "metadata": {
        "id": "yJCq_vYVSMsy",
        "colab_type": "code",
        "colab": {
          "base_uri": "https://localhost:8080/",
          "height": 34
        },
        "outputId": "c46e0041-d8e3-4fb3-b32a-e3ccdfbceb4f"
      },
      "cell_type": "code",
      "source": [
        "alt, az, distance = app.altaz(temperature_C=15.0,\n",
        "                              pressure_mbar=1005.0)\n",
        "# or use standard for rough simulation \n",
        "# alt, az, distance = app.altaz('standard')\n",
        "print(alt.dstr())"
      ],
      "execution_count": 12,
      "outputs": [
        {
          "output_type": "stream",
          "text": [
            "24deg 32' 34.1\"\n"
          ],
          "name": "stdout"
        }
      ]
    },
    {
      "metadata": {
        "id": "TAhcv39_qtwT",
        "colab_type": "text"
      },
      "cell_type": "markdown",
      "source": [
        "#Figuring out how to plot\n",
        "\n",
        "We're gonna use Astropy\n"
      ]
    },
    {
      "metadata": {
        "colab_type": "code",
        "outputId": "d0a13de3-c58e-47ed-91b5-d42c5fa41f8e",
        "id": "mg-T-HYj_c9Y",
        "colab": {
          "base_uri": "https://localhost:8080/",
          "height": 119
        }
      },
      "cell_type": "code",
      "source": [
        "!pip install astropy\n",
        "from astropy.time import Time\n",
        "from skyfield.api import load\n",
        "\n",
        "atime = Time('2010-01-01T00:00:00', scale='utc')\n",
        "print(atime)\n",
        "\n",
        "ts = load.timescale()\n",
        "t = ts.from_astropy(atime)\n",
        "print(t.utc_jpl())\n",
        "\n",
        "# Convert Positions \n",
        "import astropy.units as u\n",
        "from skyfield.api import load\n",
        "\n",
        "planets = load('de421.bsp')\n",
        "earth = planets['earth']\n",
        "\n",
        "ts = load.timescale()\n",
        "t = ts.utc(1980, 1, 1)\n",
        "apparent = earth.at(t)\n",
        "\n",
        "print(apparent.position.to(u.au))\n",
        "print(apparent.velocity.to(u.au / u.day))"
      ],
      "execution_count": 19,
      "outputs": [
        {
          "output_type": "stream",
          "text": [
            "Requirement already satisfied: astropy in /usr/local/lib/python3.6/dist-packages (3.0.5)\n",
            "Requirement already satisfied: numpy>=1.10.0 in /usr/local/lib/python3.6/dist-packages (from astropy) (1.16.3)\n",
            "2010-01-01T00:00:00.000\n",
            "A.D. 2010-Jan-01 00:00:00.0000 UT\n",
            "[-0.16287311  0.88787399  0.38473904] AU\n",
            "[-0.01721258 -0.00279426 -0.0012121 ] AU / d\n"
          ],
          "name": "stdout"
        }
      ]
    },
    {
      "metadata": {
        "id": "feavOYFlDfx_",
        "colab_type": "code",
        "colab": {
          "base_uri": "https://localhost:8080/",
          "height": 238
        },
        "outputId": "e6ca35c1-8230-4a44-9c06-1c732da7f9fe"
      },
      "cell_type": "code",
      "source": [
        "!pip install astroplan\n",
        "!pip install pytz\n",
        "!pip install matplotlib\n",
        "\n",
        "import matplotlib.pyplot as plt\n",
        "import astropy.units as u\n",
        "from astropy.coordinates import EarthLocation, SkyCoord\n",
        "from pytz import timezone\n",
        "from astropy.time import Time\n",
        "\n",
        "from astroplan import Observer\n",
        "from astroplan import FixedTarget\n",
        "from astroplan.plots import plot_sky\n"
      ],
      "execution_count": 38,
      "outputs": [
        {
          "output_type": "stream",
          "text": [
            "Requirement already satisfied: astroplan in /usr/local/lib/python3.6/dist-packages (0.4)\n",
            "Requirement already satisfied: numpy>=1.10 in /usr/local/lib/python3.6/dist-packages (from astroplan) (1.16.3)\n",
            "Requirement already satisfied: astropy>=1.3 in /usr/local/lib/python3.6/dist-packages (from astroplan) (3.0.5)\n",
            "Requirement already satisfied: pytz in /usr/local/lib/python3.6/dist-packages (from astroplan) (2018.9)\n",
            "Requirement already satisfied: pytz in /usr/local/lib/python3.6/dist-packages (2018.9)\n",
            "Requirement already satisfied: matplotlib in /usr/local/lib/python3.6/dist-packages (3.0.3)\n",
            "Requirement already satisfied: python-dateutil>=2.1 in /usr/local/lib/python3.6/dist-packages (from matplotlib) (2.5.3)\n",
            "Requirement already satisfied: numpy>=1.10.0 in /usr/local/lib/python3.6/dist-packages (from matplotlib) (1.16.3)\n",
            "Requirement already satisfied: kiwisolver>=1.0.1 in /usr/local/lib/python3.6/dist-packages (from matplotlib) (1.1.0)\n",
            "Requirement already satisfied: pyparsing!=2.0.4,!=2.1.2,!=2.1.6,>=2.0.1 in /usr/local/lib/python3.6/dist-packages (from matplotlib) (2.4.0)\n",
            "Requirement already satisfied: cycler>=0.10 in /usr/local/lib/python3.6/dist-packages (from matplotlib) (0.10.0)\n",
            "Requirement already satisfied: six>=1.5 in /usr/local/lib/python3.6/dist-packages (from python-dateutil>=2.1->matplotlib) (1.12.0)\n",
            "Requirement already satisfied: setuptools in /usr/local/lib/python3.6/dist-packages (from kiwisolver>=1.0.1->matplotlib) (41.0.1)\n"
          ],
          "name": "stdout"
        }
      ]
    },
    {
      "metadata": {
        "id": "ohK1UgBYK6hF",
        "colab_type": "code",
        "colab": {
          "base_uri": "https://localhost:8080/",
          "height": 655
        },
        "outputId": "aeff7244-7434-40ff-ce3d-b13ec165f879"
      },
      "cell_type": "code",
      "source": [
        "\n",
        "# Set up Observer, Target and observation time objects.\n",
        "longitude = '-155d28m48.900s'\n",
        "latitude = '+19d49m42.600s'\n",
        "elevation = 4163 * u.m\n",
        "location = EarthLocation.from_geodetic(longitude, latitude, elevation)\n",
        "\n",
        "observer = Observer(name='Subaru Telescope',\n",
        "               location=location,\n",
        "               pressure=0.615 * u.bar,\n",
        "               relative_humidity=0.11,\n",
        "               temperature=0 * u.deg_C,\n",
        "               timezone=timezone('US/Hawaii'),\n",
        "               description=\"Subaru Telescope on Maunakea, Hawaii\")\n",
        "\n",
        "coordinates = SkyCoord('02h31m49.09s', '+89d15m50.8s', frame='icrs')\n",
        "polaris = FixedTarget(name='Polaris', coord=coordinates)\n",
        "\n",
        "\n",
        "coordinates = SkyCoord('19h50m47.6s', '+08d52m12.0s', frame='icrs')\n",
        "altair = FixedTarget(name='Altair', coord=coordinates)\n",
        "\n",
        "\n",
        "coordinates = SkyCoord('18h36m56.5s', '+38d47m06.6s', frame='icrs')\n",
        "vega = FixedTarget(name='Vega', coord=coordinates)\n",
        "\n",
        "\n",
        "coordinates = SkyCoord('20h41m25.9s', '+45d16m49.3s', frame='icrs')\n",
        "deneb = FixedTarget(name='Deneb', coord=coordinates)\n",
        "\n",
        "\n",
        "# Note that this is not a scalar.\n",
        "observe_time = Time(['2000-03-15 15:30:00'])\n",
        "\n",
        "plot_sky(polaris, observer, observe_time)\n",
        "plot_sky(altair, observer, observe_time)\n",
        "plot_sky(vega, observer, observe_time)\n",
        "plot_sky(deneb, observer, observe_time)\n",
        "\n",
        "# Note that you don't need this code block to produce the plot.\n",
        "# It reduces the plot size for the documentation.\n",
        "ax = plt.gca()\n",
        "box = ax.get_position()\n",
        "ax.set_position([box.x0, box.y0, box.width * 0.75, box.height * 0.75])\n",
        "\n",
        "plt.legend(loc='center left', bbox_to_anchor=(1.25, 0.5))\n",
        "plt.tight_layout()\n",
        "plt.show()"
      ],
      "execution_count": 39,
      "outputs": [
        {
          "output_type": "error",
          "ename": "AttributeError",
          "evalue": "ignored",
          "traceback": [
            "\u001b[0;31m---------------------------------------------------------------------------\u001b[0m",
            "\u001b[0;31mAttributeError\u001b[0m                            Traceback (most recent call last)",
            "\u001b[0;32m<ipython-input-39-cf7ecf2f65fc>\u001b[0m in \u001b[0;36m<module>\u001b[0;34m()\u001b[0m\n\u001b[1;32m     31\u001b[0m \u001b[0mobserve_time\u001b[0m \u001b[0;34m=\u001b[0m \u001b[0mTime\u001b[0m\u001b[0;34m(\u001b[0m\u001b[0;34m[\u001b[0m\u001b[0;34m'2000-03-15 15:30:00'\u001b[0m\u001b[0;34m]\u001b[0m\u001b[0;34m)\u001b[0m\u001b[0;34m\u001b[0m\u001b[0;34m\u001b[0m\u001b[0m\n\u001b[1;32m     32\u001b[0m \u001b[0;34m\u001b[0m\u001b[0m\n\u001b[0;32m---> 33\u001b[0;31m \u001b[0mplot_sky\u001b[0m\u001b[0;34m(\u001b[0m\u001b[0mpolaris\u001b[0m\u001b[0;34m,\u001b[0m \u001b[0mobserver\u001b[0m\u001b[0;34m,\u001b[0m \u001b[0mobserve_time\u001b[0m\u001b[0;34m)\u001b[0m\u001b[0;34m\u001b[0m\u001b[0;34m\u001b[0m\u001b[0m\n\u001b[0m\u001b[1;32m     34\u001b[0m \u001b[0mplot_sky\u001b[0m\u001b[0;34m(\u001b[0m\u001b[0maltair\u001b[0m\u001b[0;34m,\u001b[0m \u001b[0mobserver\u001b[0m\u001b[0;34m,\u001b[0m \u001b[0mobserve_time\u001b[0m\u001b[0;34m)\u001b[0m\u001b[0;34m\u001b[0m\u001b[0;34m\u001b[0m\u001b[0m\n\u001b[1;32m     35\u001b[0m \u001b[0mplot_sky\u001b[0m\u001b[0;34m(\u001b[0m\u001b[0mvega\u001b[0m\u001b[0;34m,\u001b[0m \u001b[0mobserver\u001b[0m\u001b[0;34m,\u001b[0m \u001b[0mobserve_time\u001b[0m\u001b[0;34m)\u001b[0m\u001b[0;34m\u001b[0m\u001b[0;34m\u001b[0m\u001b[0m\n",
            "\u001b[0;32m/usr/local/lib/python3.6/dist-packages/astropy/utils/decorators.py\u001b[0m in \u001b[0;36mplot_sky\u001b[0;34m(target, observer, time, ax, style_kwargs, north_to_east_ccw, grid, az_label_offset, warn_below_horizon, style_sheet)\u001b[0m\n\u001b[1;32m    825\u001b[0m             \u001b[0mname\u001b[0m \u001b[0;34m=\u001b[0m \u001b[0mfunc\u001b[0m\u001b[0;34m.\u001b[0m\u001b[0m__name__\u001b[0m\u001b[0;34m\u001b[0m\u001b[0;34m\u001b[0m\u001b[0m\n\u001b[1;32m    826\u001b[0m \u001b[0;34m\u001b[0m\u001b[0m\n\u001b[0;32m--> 827\u001b[0;31m         \u001b[0mfunc\u001b[0m \u001b[0;34m=\u001b[0m \u001b[0mmake_function_with_signature\u001b[0m\u001b[0;34m(\u001b[0m\u001b[0mfunc\u001b[0m\u001b[0;34m,\u001b[0m \u001b[0mname\u001b[0m\u001b[0;34m=\u001b[0m\u001b[0mname\u001b[0m\u001b[0;34m,\u001b[0m \u001b[0;34m**\u001b[0m\u001b[0mwrapped_args\u001b[0m\u001b[0;34m)\u001b[0m\u001b[0;34m\u001b[0m\u001b[0;34m\u001b[0m\u001b[0m\n\u001b[0m\u001b[1;32m    828\u001b[0m         func = functools.update_wrapper(func, wrapped, assigned=assigned,\n\u001b[1;32m    829\u001b[0m                                         updated=updated)\n",
            "\u001b[0;32m/usr/local/lib/python3.6/dist-packages/astropy/units/decorators.py\u001b[0m in \u001b[0;36mwrapper\u001b[0;34m(*func_args, **func_kwargs)\u001b[0m\n\u001b[1;32m    220\u001b[0m             \u001b[0;31m# Call the original function with any equivalencies in force.\u001b[0m\u001b[0;34m\u001b[0m\u001b[0;34m\u001b[0m\u001b[0;34m\u001b[0m\u001b[0m\n\u001b[1;32m    221\u001b[0m             \u001b[0;32mwith\u001b[0m \u001b[0madd_enabled_equivalencies\u001b[0m\u001b[0;34m(\u001b[0m\u001b[0mself\u001b[0m\u001b[0;34m.\u001b[0m\u001b[0mequivalencies\u001b[0m\u001b[0;34m)\u001b[0m\u001b[0;34m:\u001b[0m\u001b[0;34m\u001b[0m\u001b[0;34m\u001b[0m\u001b[0m\n\u001b[0;32m--> 222\u001b[0;31m                 \u001b[0mreturn_\u001b[0m \u001b[0;34m=\u001b[0m \u001b[0mwrapped_function\u001b[0m\u001b[0;34m(\u001b[0m\u001b[0;34m*\u001b[0m\u001b[0mfunc_args\u001b[0m\u001b[0;34m,\u001b[0m \u001b[0;34m**\u001b[0m\u001b[0mfunc_kwargs\u001b[0m\u001b[0;34m)\u001b[0m\u001b[0;34m\u001b[0m\u001b[0;34m\u001b[0m\u001b[0m\n\u001b[0m\u001b[1;32m    223\u001b[0m             \u001b[0;32mif\u001b[0m \u001b[0mwrapped_signature\u001b[0m\u001b[0;34m.\u001b[0m\u001b[0mreturn_annotation\u001b[0m \u001b[0;32mnot\u001b[0m \u001b[0;32min\u001b[0m \u001b[0;34m(\u001b[0m\u001b[0minspect\u001b[0m\u001b[0;34m.\u001b[0m\u001b[0mSignature\u001b[0m\u001b[0;34m.\u001b[0m\u001b[0mempty\u001b[0m\u001b[0;34m,\u001b[0m \u001b[0;32mNone\u001b[0m\u001b[0;34m)\u001b[0m\u001b[0;34m:\u001b[0m\u001b[0;34m\u001b[0m\u001b[0;34m\u001b[0m\u001b[0m\n\u001b[1;32m    224\u001b[0m                 \u001b[0;32mreturn\u001b[0m \u001b[0mreturn_\u001b[0m\u001b[0;34m.\u001b[0m\u001b[0mto\u001b[0m\u001b[0;34m(\u001b[0m\u001b[0mwrapped_signature\u001b[0m\u001b[0;34m.\u001b[0m\u001b[0mreturn_annotation\u001b[0m\u001b[0;34m)\u001b[0m\u001b[0;34m\u001b[0m\u001b[0;34m\u001b[0m\u001b[0m\n",
            "\u001b[0;32m/usr/local/lib/python3.6/dist-packages/astroplan/plots/sky.py\u001b[0m in \u001b[0;36mplot_sky\u001b[0;34m(target, observer, time, ax, style_kwargs, north_to_east_ccw, grid, az_label_offset, warn_below_horizon, style_sheet)\u001b[0m\n\u001b[1;32m    214\u001b[0m     \u001b[0;31m# Set ticks and labels.\u001b[0m\u001b[0;34m\u001b[0m\u001b[0;34m\u001b[0m\u001b[0;34m\u001b[0m\u001b[0m\n\u001b[1;32m    215\u001b[0m     \u001b[0max\u001b[0m\u001b[0;34m.\u001b[0m\u001b[0mset_rgrids\u001b[0m\u001b[0;34m(\u001b[0m\u001b[0mrange\u001b[0m\u001b[0;34m(\u001b[0m\u001b[0;36m1\u001b[0m\u001b[0;34m,\u001b[0m \u001b[0;36m106\u001b[0m\u001b[0;34m,\u001b[0m \u001b[0;36m15\u001b[0m\u001b[0;34m)\u001b[0m\u001b[0;34m,\u001b[0m \u001b[0mr_labels\u001b[0m\u001b[0;34m,\u001b[0m \u001b[0mangle\u001b[0m\u001b[0;34m=\u001b[0m\u001b[0;34m-\u001b[0m\u001b[0;36m45\u001b[0m\u001b[0;34m)\u001b[0m\u001b[0;34m\u001b[0m\u001b[0;34m\u001b[0m\u001b[0m\n\u001b[0;32m--> 216\u001b[0;31m     \u001b[0max\u001b[0m\u001b[0;34m.\u001b[0m\u001b[0mset_thetagrids\u001b[0m\u001b[0;34m(\u001b[0m\u001b[0mrange\u001b[0m\u001b[0;34m(\u001b[0m\u001b[0;36m0\u001b[0m\u001b[0;34m,\u001b[0m \u001b[0;36m360\u001b[0m\u001b[0;34m,\u001b[0m \u001b[0;36m45\u001b[0m\u001b[0;34m)\u001b[0m\u001b[0;34m,\u001b[0m \u001b[0mtheta_labels\u001b[0m\u001b[0;34m,\u001b[0m \u001b[0mfrac\u001b[0m\u001b[0;34m=\u001b[0m\u001b[0;36m1.2\u001b[0m\u001b[0;34m)\u001b[0m\u001b[0;34m\u001b[0m\u001b[0;34m\u001b[0m\u001b[0m\n\u001b[0m\u001b[1;32m    217\u001b[0m \u001b[0;34m\u001b[0m\u001b[0m\n\u001b[1;32m    218\u001b[0m     \u001b[0;31m# Below commands don't seem to work for setting ticks/labels.\u001b[0m\u001b[0;34m\u001b[0m\u001b[0;34m\u001b[0m\u001b[0;34m\u001b[0m\u001b[0m\n",
            "\u001b[0;32m/usr/local/lib/python3.6/dist-packages/matplotlib/projections/polar.py\u001b[0m in \u001b[0;36mset_thetagrids\u001b[0;34m(self, angles, labels, fmt, **kwargs)\u001b[0m\n\u001b[1;32m   1266\u001b[0m             \u001b[0mself\u001b[0m\u001b[0;34m.\u001b[0m\u001b[0mxaxis\u001b[0m\u001b[0;34m.\u001b[0m\u001b[0mset_major_formatter\u001b[0m\u001b[0;34m(\u001b[0m\u001b[0mmticker\u001b[0m\u001b[0;34m.\u001b[0m\u001b[0mFormatStrFormatter\u001b[0m\u001b[0;34m(\u001b[0m\u001b[0mfmt\u001b[0m\u001b[0;34m)\u001b[0m\u001b[0;34m)\u001b[0m\u001b[0;34m\u001b[0m\u001b[0;34m\u001b[0m\u001b[0m\n\u001b[1;32m   1267\u001b[0m         \u001b[0;32mfor\u001b[0m \u001b[0mt\u001b[0m \u001b[0;32min\u001b[0m \u001b[0mself\u001b[0m\u001b[0;34m.\u001b[0m\u001b[0mxaxis\u001b[0m\u001b[0;34m.\u001b[0m\u001b[0mget_ticklabels\u001b[0m\u001b[0;34m(\u001b[0m\u001b[0;34m)\u001b[0m\u001b[0;34m:\u001b[0m\u001b[0;34m\u001b[0m\u001b[0;34m\u001b[0m\u001b[0m\n\u001b[0;32m-> 1268\u001b[0;31m             \u001b[0mt\u001b[0m\u001b[0;34m.\u001b[0m\u001b[0mupdate\u001b[0m\u001b[0;34m(\u001b[0m\u001b[0mkwargs\u001b[0m\u001b[0;34m)\u001b[0m\u001b[0;34m\u001b[0m\u001b[0;34m\u001b[0m\u001b[0m\n\u001b[0m\u001b[1;32m   1269\u001b[0m         \u001b[0;32mreturn\u001b[0m \u001b[0mself\u001b[0m\u001b[0;34m.\u001b[0m\u001b[0mxaxis\u001b[0m\u001b[0;34m.\u001b[0m\u001b[0mget_ticklines\u001b[0m\u001b[0;34m(\u001b[0m\u001b[0;34m)\u001b[0m\u001b[0;34m,\u001b[0m \u001b[0mself\u001b[0m\u001b[0;34m.\u001b[0m\u001b[0mxaxis\u001b[0m\u001b[0;34m.\u001b[0m\u001b[0mget_ticklabels\u001b[0m\u001b[0;34m(\u001b[0m\u001b[0;34m)\u001b[0m\u001b[0;34m\u001b[0m\u001b[0;34m\u001b[0m\u001b[0m\n\u001b[1;32m   1270\u001b[0m \u001b[0;34m\u001b[0m\u001b[0m\n",
            "\u001b[0;32m/usr/local/lib/python3.6/dist-packages/matplotlib/text.py\u001b[0m in \u001b[0;36mupdate\u001b[0;34m(self, kwargs)\u001b[0m\n\u001b[1;32m    185\u001b[0m         \u001b[0msentinel\u001b[0m \u001b[0;34m=\u001b[0m \u001b[0mobject\u001b[0m\u001b[0;34m(\u001b[0m\u001b[0;34m)\u001b[0m  \u001b[0;31m# bbox can be None, so use another sentinel.\u001b[0m\u001b[0;34m\u001b[0m\u001b[0;34m\u001b[0m\u001b[0m\n\u001b[1;32m    186\u001b[0m         \u001b[0mbbox\u001b[0m \u001b[0;34m=\u001b[0m \u001b[0mkwargs\u001b[0m\u001b[0;34m.\u001b[0m\u001b[0mpop\u001b[0m\u001b[0;34m(\u001b[0m\u001b[0;34m\"bbox\"\u001b[0m\u001b[0;34m,\u001b[0m \u001b[0msentinel\u001b[0m\u001b[0;34m)\u001b[0m\u001b[0;34m\u001b[0m\u001b[0;34m\u001b[0m\u001b[0m\n\u001b[0;32m--> 187\u001b[0;31m         \u001b[0msuper\u001b[0m\u001b[0;34m(\u001b[0m\u001b[0;34m)\u001b[0m\u001b[0;34m.\u001b[0m\u001b[0mupdate\u001b[0m\u001b[0;34m(\u001b[0m\u001b[0mkwargs\u001b[0m\u001b[0;34m)\u001b[0m\u001b[0;34m\u001b[0m\u001b[0;34m\u001b[0m\u001b[0m\n\u001b[0m\u001b[1;32m    188\u001b[0m         \u001b[0;32mif\u001b[0m \u001b[0mbbox\u001b[0m \u001b[0;32mis\u001b[0m \u001b[0;32mnot\u001b[0m \u001b[0msentinel\u001b[0m\u001b[0;34m:\u001b[0m\u001b[0;34m\u001b[0m\u001b[0;34m\u001b[0m\u001b[0m\n\u001b[1;32m    189\u001b[0m             \u001b[0mself\u001b[0m\u001b[0;34m.\u001b[0m\u001b[0mset_bbox\u001b[0m\u001b[0;34m(\u001b[0m\u001b[0mbbox\u001b[0m\u001b[0;34m)\u001b[0m\u001b[0;34m\u001b[0m\u001b[0;34m\u001b[0m\u001b[0m\n",
            "\u001b[0;32m/usr/local/lib/python3.6/dist-packages/matplotlib/artist.py\u001b[0m in \u001b[0;36mupdate\u001b[0;34m(self, props)\u001b[0m\n\u001b[1;32m    914\u001b[0m \u001b[0;34m\u001b[0m\u001b[0m\n\u001b[1;32m    915\u001b[0m         \u001b[0;32mwith\u001b[0m \u001b[0mcbook\u001b[0m\u001b[0;34m.\u001b[0m\u001b[0m_setattr_cm\u001b[0m\u001b[0;34m(\u001b[0m\u001b[0mself\u001b[0m\u001b[0;34m,\u001b[0m \u001b[0meventson\u001b[0m\u001b[0;34m=\u001b[0m\u001b[0;32mFalse\u001b[0m\u001b[0;34m)\u001b[0m\u001b[0;34m:\u001b[0m\u001b[0;34m\u001b[0m\u001b[0;34m\u001b[0m\u001b[0m\n\u001b[0;32m--> 916\u001b[0;31m             \u001b[0mret\u001b[0m \u001b[0;34m=\u001b[0m \u001b[0;34m[\u001b[0m\u001b[0m_update_property\u001b[0m\u001b[0;34m(\u001b[0m\u001b[0mself\u001b[0m\u001b[0;34m,\u001b[0m \u001b[0mk\u001b[0m\u001b[0;34m,\u001b[0m \u001b[0mv\u001b[0m\u001b[0;34m)\u001b[0m \u001b[0;32mfor\u001b[0m \u001b[0mk\u001b[0m\u001b[0;34m,\u001b[0m \u001b[0mv\u001b[0m \u001b[0;32min\u001b[0m \u001b[0mprops\u001b[0m\u001b[0;34m.\u001b[0m\u001b[0mitems\u001b[0m\u001b[0;34m(\u001b[0m\u001b[0;34m)\u001b[0m\u001b[0;34m]\u001b[0m\u001b[0;34m\u001b[0m\u001b[0;34m\u001b[0m\u001b[0m\n\u001b[0m\u001b[1;32m    917\u001b[0m \u001b[0;34m\u001b[0m\u001b[0m\n\u001b[1;32m    918\u001b[0m         \u001b[0;32mif\u001b[0m \u001b[0mlen\u001b[0m\u001b[0;34m(\u001b[0m\u001b[0mret\u001b[0m\u001b[0;34m)\u001b[0m\u001b[0;34m:\u001b[0m\u001b[0;34m\u001b[0m\u001b[0;34m\u001b[0m\u001b[0m\n",
            "\u001b[0;32m/usr/local/lib/python3.6/dist-packages/matplotlib/artist.py\u001b[0m in \u001b[0;36m<listcomp>\u001b[0;34m(.0)\u001b[0m\n\u001b[1;32m    914\u001b[0m \u001b[0;34m\u001b[0m\u001b[0m\n\u001b[1;32m    915\u001b[0m         \u001b[0;32mwith\u001b[0m \u001b[0mcbook\u001b[0m\u001b[0;34m.\u001b[0m\u001b[0m_setattr_cm\u001b[0m\u001b[0;34m(\u001b[0m\u001b[0mself\u001b[0m\u001b[0;34m,\u001b[0m \u001b[0meventson\u001b[0m\u001b[0;34m=\u001b[0m\u001b[0;32mFalse\u001b[0m\u001b[0;34m)\u001b[0m\u001b[0;34m:\u001b[0m\u001b[0;34m\u001b[0m\u001b[0;34m\u001b[0m\u001b[0m\n\u001b[0;32m--> 916\u001b[0;31m             \u001b[0mret\u001b[0m \u001b[0;34m=\u001b[0m \u001b[0;34m[\u001b[0m\u001b[0m_update_property\u001b[0m\u001b[0;34m(\u001b[0m\u001b[0mself\u001b[0m\u001b[0;34m,\u001b[0m \u001b[0mk\u001b[0m\u001b[0;34m,\u001b[0m \u001b[0mv\u001b[0m\u001b[0;34m)\u001b[0m \u001b[0;32mfor\u001b[0m \u001b[0mk\u001b[0m\u001b[0;34m,\u001b[0m \u001b[0mv\u001b[0m \u001b[0;32min\u001b[0m \u001b[0mprops\u001b[0m\u001b[0;34m.\u001b[0m\u001b[0mitems\u001b[0m\u001b[0;34m(\u001b[0m\u001b[0;34m)\u001b[0m\u001b[0;34m]\u001b[0m\u001b[0;34m\u001b[0m\u001b[0;34m\u001b[0m\u001b[0m\n\u001b[0m\u001b[1;32m    917\u001b[0m \u001b[0;34m\u001b[0m\u001b[0m\n\u001b[1;32m    918\u001b[0m         \u001b[0;32mif\u001b[0m \u001b[0mlen\u001b[0m\u001b[0;34m(\u001b[0m\u001b[0mret\u001b[0m\u001b[0;34m)\u001b[0m\u001b[0;34m:\u001b[0m\u001b[0;34m\u001b[0m\u001b[0;34m\u001b[0m\u001b[0m\n",
            "\u001b[0;32m/usr/local/lib/python3.6/dist-packages/matplotlib/artist.py\u001b[0m in \u001b[0;36m_update_property\u001b[0;34m(self, k, v)\u001b[0m\n\u001b[1;32m    910\u001b[0m                 \u001b[0mfunc\u001b[0m \u001b[0;34m=\u001b[0m \u001b[0mgetattr\u001b[0m\u001b[0;34m(\u001b[0m\u001b[0mself\u001b[0m\u001b[0;34m,\u001b[0m \u001b[0;34m'set_'\u001b[0m \u001b[0;34m+\u001b[0m \u001b[0mk\u001b[0m\u001b[0;34m,\u001b[0m \u001b[0;32mNone\u001b[0m\u001b[0;34m)\u001b[0m\u001b[0;34m\u001b[0m\u001b[0;34m\u001b[0m\u001b[0m\n\u001b[1;32m    911\u001b[0m                 \u001b[0;32mif\u001b[0m \u001b[0;32mnot\u001b[0m \u001b[0mcallable\u001b[0m\u001b[0;34m(\u001b[0m\u001b[0mfunc\u001b[0m\u001b[0;34m)\u001b[0m\u001b[0;34m:\u001b[0m\u001b[0;34m\u001b[0m\u001b[0;34m\u001b[0m\u001b[0m\n\u001b[0;32m--> 912\u001b[0;31m                     \u001b[0;32mraise\u001b[0m \u001b[0mAttributeError\u001b[0m\u001b[0;34m(\u001b[0m\u001b[0;34m'Unknown property %s'\u001b[0m \u001b[0;34m%\u001b[0m \u001b[0mk\u001b[0m\u001b[0;34m)\u001b[0m\u001b[0;34m\u001b[0m\u001b[0;34m\u001b[0m\u001b[0m\n\u001b[0m\u001b[1;32m    913\u001b[0m                 \u001b[0;32mreturn\u001b[0m \u001b[0mfunc\u001b[0m\u001b[0;34m(\u001b[0m\u001b[0mv\u001b[0m\u001b[0;34m)\u001b[0m\u001b[0;34m\u001b[0m\u001b[0;34m\u001b[0m\u001b[0m\n\u001b[1;32m    914\u001b[0m \u001b[0;34m\u001b[0m\u001b[0m\n",
            "\u001b[0;31mAttributeError\u001b[0m: Unknown property frac"
          ]
        },
        {
          "output_type": "display_data",
          "data": {
            "image/png": "[encoded data removed]",
            "text/plain": [
              "<Figure size 432x288 with 1 Axes>"
            ]
          },
          "metadata": {
            "tags": []
          }
        }
      ]
    }
  ]
}