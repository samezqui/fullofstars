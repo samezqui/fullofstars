{
  "nbformat": 4,
  "nbformat_minor": 0,
  "metadata": {
    "colab": {
      "name": "FullofStars.ipynb",
      "version": "0.3.2",
      "provenance": [],
      "collapsed_sections": [],
      "include_colab_link": true
    },
    "kernelspec": {
      "name": "python3",
      "display_name": "Python 3"
    }
  },
  "cells": [
    {
      "cell_type": "markdown",
      "metadata": {
        "id": "view-in-github",
        "colab_type": "text"
      },
      "source": [
        "<a href=\"https://colab.research.google.com/github/samezqui/fullofstars/blob/star_move/skyfield_FullofStars.ipynb\" target=\"_parent\"><img src=\"https://colab.research.google.com/assets/colab-badge.svg\" alt=\"Open In Colab\"/></a>"
      ]
    },
    {
      "metadata": {
        "id": "rCRUm9_b6tu-",
        "colab_type": "text"
      },
      "cell_type": "markdown",
      "source": [
        "Using astral module \n",
        "\n",
        "Limitations:\n",
        "*   calculates events in UTC timezone\n",
        "*   List item\n",
        "\n",
        "\n",
        "\n"
      ]
    },
    {
      "metadata": {
        "id": "EgdfLx9EYzFB",
        "colab_type": "code",
        "outputId": "4d942458-d4dc-474e-a1a7-5efc454abf46",
        "colab": {
          "base_uri": "https://localhost:8080/",
          "height": 51
        }
      },
      "cell_type": "code",
      "source": [
        "!pip install astral\n",
        "\n",
        "import datetime\n",
        "from astral import Astral\n",
        "\n",
        "\n",
        "    \n"
      ],
      "execution_count": 0,
      "outputs": [
        {
          "output_type": "stream",
          "text": [
            "Requirement already satisfied: astral in /usr/local/lib/python3.6/dist-packages (1.10.1)\n",
            "Requirement already satisfied: pytz in /usr/local/lib/python3.6/dist-packages (from astral) (2018.9)\n"
          ],
          "name": "stdout"
        }
      ]
    },
    {
      "metadata": {
        "id": "9q2I57KSpnid",
        "colab_type": "code",
        "outputId": "fc32e0bd-c727-49c9-9ec0-685dfeae0eff",
        "colab": {
          "base_uri": "https://localhost:8080/",
          "height": 51
        }
      },
      "cell_type": "code",
      "source": [
        "a = Astral()\n",
        "\n",
        "# determine moon phase based on date \n",
        "# shouldn't change based on location\n",
        "moon_phase = a.moon_phase(date=datetime.date(2019, 4, 11)) #which was correct!!!\n",
        "print(moon_phase)\n",
        "\n",
        "if moon_phase == 0:\n",
        "  print('New Moon')\n",
        "if moon_phase > 0 and moon_phase <7:\n",
        "  print('Waxing Crescent')\n",
        "if moon_phase == 7:\n",
        "  print('First Quarter') \n",
        "  \n",
        "# Continue with rest of phases"
      ],
      "execution_count": 0,
      "outputs": [
        {
          "output_type": "stream",
          "text": [
            "5\n",
            "Waxing Crescent\n"
          ],
          "name": "stdout"
        }
      ]
    },
    {
      "metadata": {
        "id": "upKuqOTkXQXT",
        "colab_type": "code",
        "colab": {
          "base_uri": "https://localhost:8080/",
          "height": 425
        },
        "outputId": "41307e31-e237-4bee-a5fc-399909253fb6"
      },
      "cell_type": "code",
      "source": [
        "!pip install pandas\n",
        "!pip install skyfield\n",
        "\n",
        "from skyfield.api import Star, load\n",
        "from skyfield.data import hipparcos\n",
        "\n",
        "with load.open(hipparcos.URL) as f:\n",
        "    df = hipparcos.load_dataframe(f)\n"
      ],
      "execution_count": 4,
      "outputs": [
        {
          "output_type": "stream",
          "text": [
            "Requirement already satisfied: pandas in /usr/local/lib/python3.6/dist-packages (0.24.2)\n",
            "Requirement already satisfied: pytz>=2011k in /usr/local/lib/python3.6/dist-packages (from pandas) (2018.9)\n",
            "Requirement already satisfied: numpy>=1.12.0 in /usr/local/lib/python3.6/dist-packages (from pandas) (1.16.2)\n",
            "Requirement already satisfied: python-dateutil>=2.5.0 in /usr/local/lib/python3.6/dist-packages (from pandas) (2.5.3)\n",
            "Requirement already satisfied: six>=1.5 in /usr/local/lib/python3.6/dist-packages (from python-dateutil>=2.5.0->pandas) (1.12.0)\n",
            "Collecting skyfield\n",
            "\u001b[?25l  Downloading https://files.pythonhosted.org/packages/df/b8/916a2423326d1c615312516221ac85ea2531d2d596cee5cb6b2c78b58f6e/skyfield-1.10.tar.gz (211kB)\n",
            "\u001b[K    100% |████████████████████████████████| 215kB 26.0MB/s \n",
            "\u001b[?25hCollecting jplephem>=2.3 (from skyfield)\n",
            "  Downloading https://files.pythonhosted.org/packages/14/6f/354fd50e625a66c7be3f08095c0e1fa389c75453858acf2689ffa9c4fc54/jplephem-2.9.tar.gz\n",
            "Requirement already satisfied: numpy in /usr/local/lib/python3.6/dist-packages (from skyfield) (1.16.2)\n",
            "Collecting sgp4>=1.4 (from skyfield)\n",
            "  Downloading https://files.pythonhosted.org/packages/d2/00/3f3699203176017211a71fe16e3fa71bae946ac92ade77d5a2ffc5da8576/sgp4-1.4.tar.gz\n",
            "Building wheels for collected packages: skyfield, jplephem, sgp4\n",
            "  Building wheel for skyfield (setup.py) ... \u001b[?25ldone\n",
            "\u001b[?25h  Stored in directory: /root/.cache/pip/wheels/8e/9e/57/2abcf750273b685ca923f7e3d7034ec4f91ef2ebfac616437b\n",
            "  Building wheel for jplephem (setup.py) ... \u001b[?25ldone\n",
            "\u001b[?25h  Stored in directory: /root/.cache/pip/wheels/13/d3/06/3799163edac5d1f454832143f7730413dcc56f42acfbb9f0d3\n",
            "  Building wheel for sgp4 (setup.py) ... \u001b[?25ldone\n",
            "\u001b[?25h  Stored in directory: /root/.cache/pip/wheels/6d/e2/42/5dc20daf2ba62ae03dc8abe10744ee67d9452df447dac561db\n",
            "Successfully built skyfield jplephem sgp4\n",
            "Installing collected packages: jplephem, sgp4, skyfield\n",
            "Successfully installed jplephem-2.9 sgp4-1.4 skyfield-1.10\n"
          ],
          "name": "stdout"
        },
        {
          "output_type": "stream",
          "text": [
            "[#################################] 100% hip_main.dat.gz\n"
          ],
          "name": "stderr"
        }
      ]
    }
  ]
}