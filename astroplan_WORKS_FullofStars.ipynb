{
  "nbformat": 4,
  "nbformat_minor": 0,
  "metadata": {
    "colab": {
      "name": "FullofStars.ipynb",
      "version": "0.3.2",
      "provenance": [],
      "collapsed_sections": [],
      "include_colab_link": true
    },
    "kernelspec": {
      "name": "python3",
      "display_name": "Python 3"
    }
  },
  "cells": [
    {
      "cell_type": "markdown",
      "metadata": {
        "id": "view-in-github",
        "colab_type": "text"
      },
      "source": [
        "<a href=\"https://colab.research.google.com/github/samezqui/fullofstars/blob/skymap/astroplan_WORKS_FullofStars.ipynb\" target=\"_parent\"><img src=\"https://colab.research.google.com/assets/colab-badge.svg\" alt=\"Open In Colab\"/></a>"
      ]
    },
    {
      "metadata": {
        "id": "upKuqOTkXQXT",
        "colab_type": "code",
        "colab": {
          "base_uri": "https://localhost:8080/",
          "height": 408
        },
        "outputId": "f3805da2-fbbf-4d2e-d801-a80a46803c7d"
      },
      "cell_type": "code",
      "source": [
        "!pip install pandas\n",
        "!pip install skyfield\n",
        "\n",
        "from skyfield.api import Star, load\n",
        "from skyfield.data import hipparcos\n",
        "\n"
      ],
      "execution_count": 1,
      "outputs": [
        {
          "output_type": "stream",
          "text": [
            "Requirement already satisfied: pandas in /usr/local/lib/python3.6/dist-packages (0.24.2)\n",
            "Requirement already satisfied: pytz>=2011k in /usr/local/lib/python3.6/dist-packages (from pandas) (2018.9)\n",
            "Requirement already satisfied: numpy>=1.12.0 in /usr/local/lib/python3.6/dist-packages (from pandas) (1.16.3)\n",
            "Requirement already satisfied: python-dateutil>=2.5.0 in /usr/local/lib/python3.6/dist-packages (from pandas) (2.5.3)\n",
            "Requirement already satisfied: six>=1.5 in /usr/local/lib/python3.6/dist-packages (from python-dateutil>=2.5.0->pandas) (1.12.0)\n",
            "Collecting skyfield\n",
            "\u001b[?25l  Downloading https://files.pythonhosted.org/packages/df/b8/916a2423326d1c615312516221ac85ea2531d2d596cee5cb6b2c78b58f6e/skyfield-1.10.tar.gz (211kB)\n",
            "\u001b[K     |████████████████████████████████| 215kB 4.8MB/s \n",
            "\u001b[?25hCollecting jplephem>=2.3 (from skyfield)\n",
            "  Downloading https://files.pythonhosted.org/packages/14/6f/354fd50e625a66c7be3f08095c0e1fa389c75453858acf2689ffa9c4fc54/jplephem-2.9.tar.gz\n",
            "Requirement already satisfied: numpy in /usr/local/lib/python3.6/dist-packages (from skyfield) (1.16.3)\n",
            "Collecting sgp4>=1.4 (from skyfield)\n",
            "  Downloading https://files.pythonhosted.org/packages/d2/00/3f3699203176017211a71fe16e3fa71bae946ac92ade77d5a2ffc5da8576/sgp4-1.4.tar.gz\n",
            "Building wheels for collected packages: skyfield, jplephem, sgp4\n",
            "  Building wheel for skyfield (setup.py) ... \u001b[?25l\u001b[?25hdone\n",
            "  Stored in directory: /root/.cache/pip/wheels/8e/9e/57/2abcf750273b685ca923f7e3d7034ec4f91ef2ebfac616437b\n",
            "  Building wheel for jplephem (setup.py) ... \u001b[?25l\u001b[?25hdone\n",
            "  Stored in directory: /root/.cache/pip/wheels/13/d3/06/3799163edac5d1f454832143f7730413dcc56f42acfbb9f0d3\n",
            "  Building wheel for sgp4 (setup.py) ... \u001b[?25l\u001b[?25hdone\n",
            "  Stored in directory: /root/.cache/pip/wheels/6d/e2/42/5dc20daf2ba62ae03dc8abe10744ee67d9452df447dac561db\n",
            "Successfully built skyfield jplephem sgp4\n",
            "Installing collected packages: jplephem, sgp4, skyfield\n",
            "Successfully installed jplephem-2.9 sgp4-1.4 skyfield-1.10\n"
          ],
          "name": "stdout"
        }
      ]
    },
    {
      "metadata": {
        "colab_type": "code",
        "outputId": "72c86292-07fc-4fc7-96f9-9a34af2df9d1",
        "id": "bC0eh3iBwG79",
        "colab": {
          "base_uri": "https://localhost:8080/",
          "height": 371
        }
      },
      "cell_type": "code",
      "source": [
        "# you need to load everytime you filter!!\n",
        "\n",
        "with load.open(hipparcos.URL) as f:\n",
        "    df = hipparcos.load_dataframe(f) \n",
        "    \n",
        "df = df[df['magnitude'] <= 2.5] # Bigger number = more stars \n",
        "print('After filtering, there are {} stars'.format(len(df)))\n",
        "\n",
        "bright_stars = Star.from_dataframe(df)\n",
        "planets = load('de421.bsp')\n",
        "earth = planets['earth']\n",
        "\n",
        "ts = load.timescale()\n",
        "t = ts.now()\n",
        "  # ts.utc(2018, 9, 3)\n",
        "  # time doesn't matter??? \n",
        "astrometric = earth.at(t).observe(bright_stars)\n",
        "ra, dec, distance = astrometric.radec()\n",
        "\n",
        "print('There are {} right ascensions'.format(len(ra.hours)))\n",
        "print('and {} declinations'.format(len(dec.degrees)))\n",
        "\n",
        "from matplotlib import pyplot as plt\n",
        "plt.scatter(ra.hours, dec.degrees, 9 - df['magnitude'], 'k')\n",
        "plt.xlim(7, 4)\n",
        "plt.ylim(-20, 20)\n",
        "# plt.savefig('bright_stars.png')\n",
        "print(' ')\n",
        "print('Super cool but not what I need. Not relative positions from earth ')"
      ],
      "execution_count": 6,
      "outputs": [
        {
          "output_type": "stream",
          "text": [
            "After filtering, there are 93 stars\n"
          ],
          "name": "stdout"
        },
        {
          "output_type": "stream",
          "text": [
            "[#################################] 100% de421.bsp\n"
          ],
          "name": "stderr"
        },
        {
          "output_type": "stream",
          "text": [
            "There are 93 right ascensions\n",
            "and 93 declinations\n",
            " \n",
            "Super cool but not what I need. Not relative positions from earth \n"
          ],
          "name": "stdout"
        },
        {
          "output_type": "display_data",
          "data": {
            "image/png": "[encoded data removed]",
            "text/plain": [
              "<Figure size 432x288 with 1 Axes>"
            ]
          },
          "metadata": {
            "tags": []
          }
        }
      ]
    },
    {
      "metadata": {
        "id": "Xe4RApR73QEs",
        "colab_type": "text"
      },
      "cell_type": "markdown",
      "source": [
        "# Generating Positions of Stars\n",
        "\n",
        "The zenith is the point exactly overheard when you look up from the ground. Which is 90 degs from the horizon. 90degs Altitude\n",
        "\n",
        "https://physics.weber.edu/schroeder/ua/StarMotion.html "
      ]
    },
    {
      "metadata": {
        "id": "TtGq4_fe3OuG",
        "colab_type": "code",
        "colab": {
          "base_uri": "https://localhost:8080/",
          "height": 85
        },
        "outputId": "6dd78f28-54a6-45c7-eb39-b541120f801b"
      },
      "cell_type": "code",
      "source": [
        "from skyfield.positionlib import ICRF\n",
        "\n",
        "x = 3141.0\n",
        "y = 2718.0\n",
        "z = 5820.0\n",
        "vec = ICRF([x, y, z]) \n",
        "\n",
        "from skyfield.api import Star, Topos, load\n",
        "\n",
        "ts = load.timescale()\n",
        "t = ts.now()\n",
        "# tying in time\n",
        "# https://rhodesmill.org/skyfield/time.html \n",
        "\n",
        "planets = load('de421.bsp')\n",
        "mars = planets['mars']\n",
        "barnard = Star(ra_hours=(17, 57, 48.49803),\n",
        "               dec_degrees=(4, 41, 36.2072))\n",
        "# defined stars\n",
        "\n",
        "\n",
        "# From the center of the Earth (Geocentric)\n",
        "\n",
        "earth = planets['earth']\n",
        "astrometric = earth.at(t).observe(barnard)\n",
        "apparent = earth.at(t).observe(barnard).apparent()\n",
        "  # can replace mars with barnard\n",
        "  \n",
        " \n",
        "# From a place on Earth (Topocentric)\n",
        "\n",
        "Notre_Dame = earth + Topos('41.7001 N', '86.2379 W') # South Quad coordinates \n",
        "astrometric = Notre_Dame.at(t).observe(barnard)\n",
        "apparent = Notre_Dame.at(t).observe(barnard).apparent()\n",
        "  # can replace Mars with barnard\n",
        "  # can replace barnard with Mars \n",
        "  \n",
        "  \n",
        "# Altitude and azimuth in the sky of a\n",
        "# specific geographic location\n",
        "\n",
        "\n",
        "astro = Notre_Dame.at(ts.utc(2009, 8, 1)).observe(barnard)\n",
        "# t = ts.utc(year, month, day) at midnight\n",
        "\n",
        "app = astro.apparent()\n",
        "\n",
        "alt, az, distance = app.altaz()\n",
        "print(alt.dstr()) # display altitude\n",
        "print(az.dstr())  # display azimuth \n",
        "print(distance)   # distance away \n",
        "\n",
        "print('So Barnard was more than 34° above the horizon for the Irish on 2009 Aug 1 at midnight UTC.')\n",
        "# This is just a string that must be updated with every change and run\n",
        "\n",
        "# plot this using polar coordinates\n",
        "\n"
      ],
      "execution_count": 7,
      "outputs": [
        {
          "output_type": "stream",
          "text": [
            "34deg 47' 36.6\"\n",
            "119deg 03' 16.6\"\n",
            "2.06265e+14 au\n",
            "So Barnard was more than 34° above the horizon for the Irish on 2009 Aug 1 at midnight UTC.\n"
          ],
          "name": "stdout"
        }
      ]
    },
    {
      "metadata": {
        "id": "9sPURrYg59HV",
        "colab_type": "text"
      },
      "cell_type": "markdown",
      "source": [
        "# Function to Plot Sky Map"
      ]
    },
    {
      "metadata": {
        "id": "77AYPKxk58do",
        "colab_type": "code",
        "colab": {}
      },
      "cell_type": "code",
      "source": [
        "def plot_star():\n",
        "  import matplotlib.pyplot as plt \n",
        "  ax = plt.gca(projection='polar')\n",
        "  "
      ],
      "execution_count": 0,
      "outputs": []
    },
    {
      "metadata": {
        "id": "baXoEDCGSLX-",
        "colab_type": "text"
      },
      "cell_type": "markdown",
      "source": [
        "#Weather Affects Refraction of Light from Stars\n",
        "The altitude returned from a plain altaz() call is the ideal position that you would observe if the Earth had no atmosphere. You can also ask Skyfield to estimate where an object might actually appear in the sky after the Earth’s atmosphere has refracted its image higher. If you know the weather conditions, you can specify them."
      ]
    },
    {
      "metadata": {
        "id": "yJCq_vYVSMsy",
        "colab_type": "code",
        "colab": {
          "base_uri": "https://localhost:8080/",
          "height": 34
        },
        "outputId": "cab01050-49eb-4350-ee82-637c9f03f7ca"
      },
      "cell_type": "code",
      "source": [
        "alt, az, distance = app.altaz(temperature_C=15.0,\n",
        "                              pressure_mbar=1005.0)\n",
        "# or use standard for rough simulation \n",
        "# alt, az, distance = app.altaz('standard')\n",
        "print(alt.dstr())"
      ],
      "execution_count": 5,
      "outputs": [
        {
          "output_type": "stream",
          "text": [
            "24deg 32' 34.1\"\n"
          ],
          "name": "stdout"
        }
      ]
    },
    {
      "metadata": {
        "id": "TAhcv39_qtwT",
        "colab_type": "text"
      },
      "cell_type": "markdown",
      "source": [
        "#Figuring out how to plot\n",
        "\n",
        "We're gonna use Astropy\n"
      ]
    },
    {
      "metadata": {
        "colab_type": "code",
        "outputId": "fb97af1c-33a7-46e0-b769-d4ab877ffc73",
        "id": "mg-T-HYj_c9Y",
        "colab": {
          "base_uri": "https://localhost:8080/",
          "height": 119
        }
      },
      "cell_type": "code",
      "source": [
        "!pip install astropy\n",
        "from astropy.time import Time\n",
        "from skyfield.api import load\n",
        "\n",
        "atime = Time('2010-01-01T00:00:00', scale='utc')\n",
        "print(atime)\n",
        "\n",
        "ts = load.timescale()\n",
        "t = ts.from_astropy(atime)\n",
        "print(t.utc_jpl())\n",
        "\n",
        "# Convert Positions \n",
        "import astropy.units as u\n",
        "from skyfield.api import load\n",
        "\n",
        "planets = load('de421.bsp')\n",
        "earth = planets['earth']\n",
        "\n",
        "ts = load.timescale()\n",
        "t = ts.utc(1980, 1, 1)\n",
        "apparent = earth.at(t)\n",
        "\n",
        "print(apparent.position.to(u.au))\n",
        "print(apparent.velocity.to(u.au / u.day))"
      ],
      "execution_count": 6,
      "outputs": [
        {
          "output_type": "stream",
          "text": [
            "Requirement already satisfied: astropy in /usr/local/lib/python3.6/dist-packages (3.0.5)\n",
            "Requirement already satisfied: numpy>=1.10.0 in /usr/local/lib/python3.6/dist-packages (from astropy) (1.16.3)\n",
            "2010-01-01T00:00:00.000\n",
            "A.D. 2010-Jan-01 00:00:00.0000 UT\n",
            "[-0.16287311  0.88787399  0.38473904] AU\n",
            "[-0.01721258 -0.00279426 -0.0012121 ] AU / d\n"
          ],
          "name": "stdout"
        }
      ]
    },
    {
      "metadata": {
        "id": "feavOYFlDfx_",
        "colab_type": "code",
        "colab": {
          "base_uri": "https://localhost:8080/",
          "height": 272
        },
        "outputId": "d7885ea8-bedc-44ad-a24c-0837c35ee5e5"
      },
      "cell_type": "code",
      "source": [
        "!pip install astroplan\n",
        "!pip install pytz\n",
        "!pip install matplotlib\n",
        "!pip install astropy \n",
        "\n",
        "\n",
        "from __future__ import (absolute_import, division, print_function,\n",
        "                        unicode_literals)\n",
        "\n",
        "import numpy as np\n",
        "import warnings\n",
        "\n",
        "\n",
        "__all__ = ['plot_sky']\n",
        "\n",
        "import matplotlib.pyplot as plt\n",
        "import astropy.units as u\n",
        "from astropy.coordinates import EarthLocation, SkyCoord\n",
        "from pytz import timezone\n",
        "from astropy.time import Time\n",
        "\n",
        "from astroplan import Observer\n",
        "from astroplan import FixedTarget\n",
        "\n"
      ],
      "execution_count": 9,
      "outputs": [
        {
          "output_type": "stream",
          "text": [
            "Requirement already satisfied: astroplan in /usr/local/lib/python3.6/dist-packages (0.4)\n",
            "Requirement already satisfied: astropy>=1.3 in /usr/local/lib/python3.6/dist-packages (from astroplan) (3.0.5)\n",
            "Requirement already satisfied: numpy>=1.10 in /usr/local/lib/python3.6/dist-packages (from astroplan) (1.16.3)\n",
            "Requirement already satisfied: pytz in /usr/local/lib/python3.6/dist-packages (from astroplan) (2018.9)\n",
            "Requirement already satisfied: pytz in /usr/local/lib/python3.6/dist-packages (2018.9)\n",
            "Requirement already satisfied: matplotlib in /usr/local/lib/python3.6/dist-packages (3.0.3)\n",
            "Requirement already satisfied: python-dateutil>=2.1 in /usr/local/lib/python3.6/dist-packages (from matplotlib) (2.5.3)\n",
            "Requirement already satisfied: pyparsing!=2.0.4,!=2.1.2,!=2.1.6,>=2.0.1 in /usr/local/lib/python3.6/dist-packages (from matplotlib) (2.4.0)\n",
            "Requirement already satisfied: kiwisolver>=1.0.1 in /usr/local/lib/python3.6/dist-packages (from matplotlib) (1.1.0)\n",
            "Requirement already satisfied: cycler>=0.10 in /usr/local/lib/python3.6/dist-packages (from matplotlib) (0.10.0)\n",
            "Requirement already satisfied: numpy>=1.10.0 in /usr/local/lib/python3.6/dist-packages (from matplotlib) (1.16.3)\n",
            "Requirement already satisfied: six>=1.5 in /usr/local/lib/python3.6/dist-packages (from python-dateutil>=2.1->matplotlib) (1.12.0)\n",
            "Requirement already satisfied: setuptools in /usr/local/lib/python3.6/dist-packages (from kiwisolver>=1.0.1->matplotlib) (41.0.1)\n",
            "Requirement already satisfied: astropy in /usr/local/lib/python3.6/dist-packages (3.0.5)\n",
            "Requirement already satisfied: numpy>=1.10.0 in /usr/local/lib/python3.6/dist-packages (from astropy) (1.16.3)\n"
          ],
          "name": "stdout"
        }
      ]
    },
    {
      "metadata": {
        "id": "YvrR0-_w_svY",
        "colab_type": "code",
        "colab": {}
      },
      "cell_type": "code",
      "source": [
        "def plot_sky(target, observer, time, ax=None, style_kwargs=None,\n",
        "             north_to_east_ccw=True, grid=True, az_label_offset=0.0*u.deg,\n",
        "             warn_below_horizon=False, style_sheet=None):\n",
        "    \"\"\"\n",
        "    Plots target positions in the sky with respect to the observer's location.\n",
        "\n",
        "    If a `~matplotlib.axes.Axes` object already exists, plots an additional\n",
        "    target position on top.\n",
        "    Otherwise, creates a new `~matplotlib.axes.Axes` object with a sky plot.\n",
        "\n",
        "    Can pass in a scalar `~astropy.time.Time` object (e.g. ``Time('2000-1-1')``)\n",
        "    or an array of length one (e.g. ``Time(['2000-1-1'])``) to get plot at one\n",
        "    instance in time.\n",
        "    If pass in an `~astropy.time.Time` object with multiple instances of time\n",
        "    (e.g. ``Time(['2000-1-1 20:00:00', '2000-1-1 20:30:00'])``), target's\n",
        "    position will be shown at each of these times.\n",
        "\n",
        "    For examples with plots, visit the documentation of :ref:`plots_sky_charts`.\n",
        "\n",
        "    Parameters\n",
        "    ----------\n",
        "    target : `~astroplan.FixedTarget`\n",
        "        The celestial body of interest.\n",
        "\n",
        "    observer : `~astroplan.Observer`\n",
        "        The person, telescope, observatory, etc. doing the observing.\n",
        "\n",
        "    time : `~astropy.time.Time`\n",
        "        If pass in an `~astropy.time.Time` object with just one instance in\n",
        "        time, whether it be a scalar or an array (e.g. ``Time('2000-1-1')``,\n",
        "        ``Time(['2000-1-1'])``, ``[Time('2000-1-1')]``),\n",
        "        `~astroplan.plots.plot_sky` will return plot at one instance in\n",
        "        time.  If pass in an `~astropy.time.Time` object with multiple\n",
        "        instances in time (e.g. ``Time(['2000-1-1', '2000-1-2'])``) will\n",
        "        show positions plotted at the exact times specified.\n",
        "\n",
        "    ax : `~matplotlib.axes.Axes` or None, optional.\n",
        "        The `~matplotlib.axes.Axes` object to be drawn on.\n",
        "        If None, uses the current `~matplotlib.axes.Axes`.\n",
        "\n",
        "    style_kwargs : dict or None, optional.\n",
        "        A dictionary of keywords passed into `~matplotlib.pyplot.scatter`\n",
        "        to set plotting styles.\n",
        "\n",
        "    north_to_east_ccw : bool, optional.\n",
        "        True by default, meaning that azimuth is shown increasing\n",
        "        counter-clockwise (CCW), or with North at top, East at left, etc.\n",
        "        To show azimuth increasing clockwise (CW), set to False.\n",
        "\n",
        "    grid : bool, optional.\n",
        "        True by default, meaning that grid is drawn.\n",
        "\n",
        "    az_label_offset : ``~astropy.units.degree``, optional.\n",
        "        DANGER: It is not recommended that you change the default behavior,\n",
        "        as to do so makes it seem as if N/E/S/W are being decoupled from the\n",
        "        definition of azimuth (North from az = 0 deg., East from az = 90 deg.,\n",
        "        etc.).\n",
        "        An offset for azimuth labels from the North label.  A positive\n",
        "        offset will increase in the same direction as azimuth\n",
        "        (see ``north_to_east_ccw`` option).\n",
        "\n",
        "    warn_below_horizon : bool, optional\n",
        "        If `False`, don't show warnings when attempting to plot targets below\n",
        "        the horzion.\n",
        "\n",
        "    style_sheet : dict or `None` (optional)\n",
        "        matplotlib style sheet to use. To see available style sheets in\n",
        "        astroplan, print *astroplan.plots.available_style_sheets*. Defaults\n",
        "        to the light theme.\n",
        "\n",
        "    Returns\n",
        "    -------\n",
        "    An `~matplotlib.axes.Axes` object (ax) with a map of the sky.\n",
        "\n",
        "    Notes\n",
        "    -----\n",
        "    Using `~astropy.time.Time` objects:\n",
        "        See `Astropy`_ documentation for more details.\n",
        "\n",
        "    Coordinate defaults:\n",
        "\n",
        "        Altazimuth (local horizon) coordinate system.  North is always at top\n",
        "        of plot, South is always at the bottom, E/W can be right or left\n",
        "        depending on the ``north_to_east_cw`` option.\n",
        "\n",
        "        Altitude: 90 degrees (zenith) is at plot origin (center) and 0 degrees\n",
        "        (horizon) is at plot edge.  This cannot be changed by user.\n",
        "\n",
        "        Azimuth: 0 degrees is at North (top of plot), 90 degrees at East, etc.\n",
        "        DANGER: Azimuth labels can be changed by user via the\n",
        "        ``az_label_offset`` option, but it is not recommended, as to do so\n",
        "        makes it seem as if N/E/S/W are being decoupled from the definition\n",
        "        of azimuth (North from az = 0 deg., East from az = 90 deg., etc.).\n",
        "\n",
        "    \"\"\"\n",
        "    # Import matplotlib, set style sheet\n",
        "    if style_sheet is not None:\n",
        "        _set_mpl_style_sheet(style_sheet)\n",
        "\n",
        "    import matplotlib.pyplot as plt\n",
        "\n",
        "    # Set up axes & plot styles if needed.\n",
        "    if ax is None:\n",
        "        ax = plt.gca(projection='polar')\n",
        "    if style_kwargs is None:\n",
        "        style_kwargs = {}\n",
        "    style_kwargs = dict(style_kwargs)\n",
        "    style_kwargs.setdefault('marker', 'o')\n",
        "\n",
        "    # Turn scalar Time objects into arrays.\n",
        "    time = Time(time)\n",
        "    if time.isscalar:\n",
        "        time = Time([time])\n",
        "\n",
        "    # Grab altitude and azimuth from Astroplan objects.\n",
        "    # Note that values must be made dimensionless before plotting.\n",
        "    # Modifying altitude is easier than inverting r-axis.\n",
        "    altitude = (91 * u.deg - observer.altaz(time, target).alt) * (1/u.deg)\n",
        "    # Azimuth MUST be given to plot() in radians.\n",
        "    azimuth = observer.altaz(time, target).az * (1/u.deg) * (np.pi/180.0)\n",
        "\n",
        "    # Some checks & info for labels.\n",
        "    if not hasattr(target, 'name'):\n",
        "        target_name = ''\n",
        "    else:\n",
        "        target_name = target.name\n",
        "    style_kwargs.setdefault('label', target_name)\n",
        "\n",
        "    # We only want to plot positions above the horizon.\n",
        "    az_plot = None\n",
        "    for alt in range(0, len(altitude)):\n",
        "        if altitude[alt] > 91.0:\n",
        "            if warn_below_horizon:\n",
        "                msg = 'Target \"{0}\" is below the horizon at time: {1}'\n",
        "                msg = msg.format(target_name if target_name else 'Unknown Name',\n",
        "                                 time[alt])\n",
        "                warnings.warn(msg, PlotBelowHorizonWarning)\n",
        "        else:\n",
        "            if az_plot is None:\n",
        "                az_plot = np.array([azimuth[alt]])\n",
        "            else:\n",
        "                az_plot = np.append(az_plot, azimuth[alt])\n",
        "    alt_plot = altitude[altitude <= 91.0]\n",
        "    if az_plot is None:\n",
        "        az_plot = []\n",
        "\n",
        "    # More axes set-up.\n",
        "    # Position of azimuth = 0 (data, not label).\n",
        "    ax.set_theta_zero_location('N')\n",
        "\n",
        "    # Direction of azimuth increase. Clockwise is -1\n",
        "    if north_to_east_ccw is False:\n",
        "        ax.set_theta_direction(-1)\n",
        "\n",
        "    # Plot target coordinates.\n",
        "    ax.scatter(az_plot, alt_plot, **style_kwargs)\n",
        "\n",
        "    # Set radial limits.\n",
        "    ax.set_rlim(1, 91)\n",
        "\n",
        "    # Grid, ticks & labels.\n",
        "    # May need to set ticks and labels AFTER plotting points.\n",
        "    if grid is True:\n",
        "        ax.grid(True, which='major')\n",
        "    if grid is False:\n",
        "        ax.grid(False)\n",
        "    degree_sign = u'\\N{DEGREE SIGN}'\n",
        "\n",
        "    # For positively-increasing range (e.g., range(1, 90, 15)),\n",
        "    # labels go from middle to outside.\n",
        "    r_labels = [\n",
        "        '90' + degree_sign,\n",
        "        '',\n",
        "        '60' + degree_sign,\n",
        "        '',\n",
        "        '30' + degree_sign,\n",
        "        '',\n",
        "        '0' + degree_sign + ' Alt.',\n",
        "    ]\n",
        "\n",
        "    theta_labels = []\n",
        "    for chunk in range(0, 7):\n",
        "        label_angle = (az_label_offset*(1/u.deg)) + (chunk*45.0)\n",
        "        while label_angle >= 360.0:\n",
        "            label_angle -= 360.0\n",
        "        if chunk == 0:\n",
        "            theta_labels.append('N ' + '\\n' + str(label_angle) + degree_sign\n",
        "                                + ' Az')\n",
        "        elif chunk == 2:\n",
        "            theta_labels.append('E' + '\\n' + str(label_angle) + degree_sign)\n",
        "        elif chunk == 4:\n",
        "            theta_labels.append('S' + '\\n' + str(label_angle) + degree_sign)\n",
        "        elif chunk == 6:\n",
        "            theta_labels.append('W' + '\\n' + str(label_angle) + degree_sign)\n",
        "        else:\n",
        "            theta_labels.append(str(label_angle) + degree_sign)\n",
        "\n",
        "    # Set ticks and labels.\n",
        "    ax.set_rgrids(range(1, 106, 15), r_labels, angle=-45)\n",
        "    ax.set_thetagrids(range(0, 360, 45), theta_labels)\n",
        "\n",
        "   \n",
        "\n",
        "    # Redraw the figure for interactive sessions.\n",
        "    ax.figure.canvas.draw()\n",
        "\n",
        "    return ax"
      ],
      "execution_count": 0,
      "outputs": []
    },
    {
      "metadata": {
        "id": "ohK1UgBYK6hF",
        "colab_type": "code",
        "colab": {
          "base_uri": "https://localhost:8080/",
          "height": 515
        },
        "outputId": "98dc1546-a25d-4a67-b960-664809dd3507"
      },
      "cell_type": "code",
      "source": [
        "\n",
        "# Set up Observer, Target and observation time objects.\n",
        "longitude = '-155d28m48.900s'\n",
        "latitude = '+19d49m42.600s'\n",
        "elevation = 4163 * u.m\n",
        "location = EarthLocation.from_geodetic(longitude, latitude, elevation)\n",
        "\n",
        "observer = Observer(name='Subaru Telescope',\n",
        "               location=location,\n",
        "               pressure=0.615 * u.bar,\n",
        "               relative_humidity=0.11,\n",
        "               temperature=0 * u.deg_C,\n",
        "               timezone=timezone('US/Hawaii'),\n",
        "               description=\"Subaru Telescope on Maunakea, Hawaii\")\n",
        "\n",
        "coordinates = SkyCoord('02h31m49.09s', '+89d15m50.8s', frame='icrs')\n",
        "polaris = FixedTarget(name='Polaris', coord=coordinates)\n",
        "\n",
        "\n",
        "coordinates = SkyCoord('19h50m47.6s', '+08d52m12.0s', frame='icrs')\n",
        "altair = FixedTarget(name='Altair', coord=coordinates)\n",
        "\n",
        "\n",
        "coordinates = SkyCoord('18h36m56.5s', '+38d47m06.6s', frame='icrs')\n",
        "vega = FixedTarget(name='Vega', coord=coordinates)\n",
        "\n",
        "\n",
        "coordinates = SkyCoord('20h41m25.9s', '+45d16m49.3s', frame='icrs')\n",
        "deneb = FixedTarget(name='Deneb', coord=coordinates)\n",
        "\n",
        "\n",
        "# Note that this is not a scalar.\n",
        "observe_time = Time(['1998-9-26'])\n",
        "\n",
        "plot_sky(polaris, observer, observe_time)\n",
        "plot_sky(altair, observer, observe_time)\n",
        "plot_sky(vega, observer, observe_time)\n",
        "plot_sky(deneb, observer, observe_time)\n",
        "\n",
        "# Note that you don't need this code block to produce the plot.\n",
        "# It reduces the plot size for the documentation.\n",
        "ax = plt.gca()\n",
        "box = ax.get_position()\n",
        "ax.set_position([box.x0, box.y0, box.width *2, box.height * 2])\n",
        "\n",
        "plt.legend(loc='center left', bbox_to_anchor=(1.25, 0.5))\n",
        "\n",
        "plt.show()"
      ],
      "execution_count": 16,
      "outputs": [
        {
          "output_type": "display_data",
          "data": {
            "image/png": "[encoded data removed]",
            "text/plain": [
              "<Figure size 432x288 with 1 Axes>"
            ]
          },
          "metadata": {
            "tags": []
          }
        }
      ]
    }
  ]
}