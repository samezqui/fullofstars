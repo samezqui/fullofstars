{
  "nbformat": 4,
  "nbformat_minor": 0,
  "metadata": {
    "colab": {
      "name": "FullofStars.ipynb",
      "version": "0.3.2",
      "provenance": [],
      "include_colab_link": true
    },
    "kernelspec": {
      "name": "python3",
      "display_name": "Python 3"
    }
  },
  "cells": [
    {
      "cell_type": "markdown",
      "metadata": {
        "id": "view-in-github",
        "colab_type": "text"
      },
      "source": [
        "<a href=\"https://colab.research.google.com/github/samezqui/fullofstars/blob/master/FullofStars.ipynb\" target=\"_parent\"><img src=\"https://colab.research.google.com/assets/colab-badge.svg\" alt=\"Open In Colab\"/></a>"
      ]
    },
    {
      "metadata": {
        "id": "EgdfLx9EYzFB",
        "colab_type": "code",
        "colab": {
          "base_uri": "https://localhost:8080/",
          "height": 68
        },
        "outputId": "139fa77e-d544-4a9c-d018-8cc284f6b045"
      },
      "cell_type": "code",
      "source": [
        "!pip install astral\n",
        "\n",
        "import datetime\n",
        "from astral import Astral\n",
        "\n",
        "a = Astral()\n",
        "\n",
        "# determine moon phase based on date \n",
        "# shouldn't change based on location\n",
        "moon_phase = a.moon_phase(date=datetime.date(2019, 4, 11)) #which was correct!!!\n",
        "print(moon_phase)\n",
        "\n"
      ],
      "execution_count": 11,
      "outputs": [
        {
          "output_type": "stream",
          "text": [
            "Requirement already satisfied: astral in /usr/local/lib/python3.6/dist-packages (1.10.1)\n",
            "Requirement already satisfied: pytz in /usr/local/lib/python3.6/dist-packages (from astral) (2018.9)\n",
            "5\n"
          ],
          "name": "stdout"
        }
      ]
    }
  ]
}