{
  "nbformat": 4,
  "nbformat_minor": 0,
  "metadata": {
    "colab": {
      "name": "FullofStars.ipynb",
      "version": "0.3.2",
      "provenance": [],
      "collapsed_sections": [],
      "include_colab_link": true
    },
    "kernelspec": {
      "name": "python3",
      "display_name": "Python 3"
    }
  },
  "cells": [
    {
      "cell_type": "markdown",
      "metadata": {
        "id": "view-in-github",
        "colab_type": "text"
      },
      "source": [
        "<a href=\"https://colab.research.google.com/github/samezqui/fullofstars/blob/skymap/astropy_FullofStars.ipynb\" target=\"_parent\"><img src=\"https://colab.research.google.com/assets/colab-badge.svg\" alt=\"Open In Colab\"/></a>"
      ]
    },
    {
      "metadata": {
        "id": "upKuqOTkXQXT",
        "colab_type": "code",
        "colab": {
          "base_uri": "https://localhost:8080/",
          "height": 170
        },
        "outputId": "fa8e3549-8274-4279-e231-97c2c8a3b385"
      },
      "cell_type": "code",
      "source": [
        "!pip install pandas\n",
        "!pip install skyfield\n",
        "\n",
        "from skyfield.api import Star, load\n",
        "from skyfield.data import hipparcos\n",
        "\n"
      ],
      "execution_count": 8,
      "outputs": [
        {
          "output_type": "stream",
          "text": [
            "Requirement already satisfied: pandas in /usr/local/lib/python3.6/dist-packages (0.24.2)\n",
            "Requirement already satisfied: python-dateutil>=2.5.0 in /usr/local/lib/python3.6/dist-packages (from pandas) (2.5.3)\n",
            "Requirement already satisfied: numpy>=1.12.0 in /usr/local/lib/python3.6/dist-packages (from pandas) (1.16.3)\n",
            "Requirement already satisfied: pytz>=2011k in /usr/local/lib/python3.6/dist-packages (from pandas) (2018.9)\n",
            "Requirement already satisfied: six>=1.5 in /usr/local/lib/python3.6/dist-packages (from python-dateutil>=2.5.0->pandas) (1.12.0)\n",
            "Requirement already satisfied: skyfield in /usr/local/lib/python3.6/dist-packages (1.10)\n",
            "Requirement already satisfied: jplephem>=2.3 in /usr/local/lib/python3.6/dist-packages (from skyfield) (2.9)\n",
            "Requirement already satisfied: numpy in /usr/local/lib/python3.6/dist-packages (from skyfield) (1.16.3)\n",
            "Requirement already satisfied: sgp4>=1.4 in /usr/local/lib/python3.6/dist-packages (from skyfield) (1.4)\n"
          ],
          "name": "stdout"
        }
      ]
    },
    {
      "metadata": {
        "id": "flAoguEtbEIU",
        "colab_type": "code",
        "colab": {
          "base_uri": "https://localhost:8080/",
          "height": 303
        },
        "outputId": "edb472c8-10c7-4bbb-aec9-7b211987fd99"
      },
      "cell_type": "code",
      "source": [
        "with load.open(hipparcos.URL) as f:\n",
        "    df = hipparcos.load_dataframe(f)\n",
        "    \n",
        "barnards_star = Star.from_dataframe(df.loc[87937]) # fastest star moving\n",
        "\n",
        "planets = load('de421.bsp')\n",
        "earth = planets['earth']\n",
        "\n",
        "ts = load.timescale()\n",
        "t = ts.now()\n",
        "astrometric = earth.at(t).observe(barnards_star)\n",
        "ra, dec, distance = astrometric.radec()\n",
        "\n",
        "from matplotlib import pyplot as plt\n",
        "plt.scatter(ra.hours, dec.degrees, 10 - df['magnitude'], 'k')\n",
        "plt.xlim(4,7 )\n",
        "plt.ylim(-20, 20)\n",
        "plt.savefig('barnards_star.png')\n",
        "\n",
        "# couldn't find barnard's star"
      ],
      "execution_count": 7,
      "outputs": [
        {
          "output_type": "stream",
          "text": [
            "/usr/local/lib/python3.6/dist-packages/matplotlib/collections.py:874: RuntimeWarning: invalid value encountered in sqrt\n",
            "  scale = np.sqrt(self._sizes) * dpi / 72.0 * self._factor\n"
          ],
          "name": "stderr"
        },
        {
          "output_type": "display_data",
          "data": {
            "image/png": "[encoded data removed]",
            "text/plain": [
              "<Figure size 432x288 with 1 Axes>"
            ]
          },
          "metadata": {
            "tags": []
          }
        }
      ]
    },
    {
      "metadata": {
        "colab_type": "code",
        "outputId": "b68285d6-3df6-429a-9fcc-0d6c53f7b5c6",
        "id": "bC0eh3iBwG79",
        "colab": {
          "base_uri": "https://localhost:8080/",
          "height": 354
        }
      },
      "cell_type": "code",
      "source": [
        "# you need to load everytime you filter!!\n",
        "\n",
        "with load.open(hipparcos.URL) as f:\n",
        "    df = hipparcos.load_dataframe(f) \n",
        "    \n",
        "df = df[df['magnitude'] <= 2.5] # Bigger number = more stars \n",
        "print('After filtering, there are {} stars'.format(len(df)))\n",
        "\n",
        "bright_stars = Star.from_dataframe(df)\n",
        "\n",
        "t = ts.now()\n",
        "  # ts.utc(2018, 9, 3)\n",
        "  # time doesn't matter??? \n",
        "astrometric = earth.at(t).observe(bright_stars)\n",
        "ra, dec, distance = astrometric.radec()\n",
        "\n",
        "print('There are {} right ascensions'.format(len(ra.hours)))\n",
        "print('and {} declinations'.format(len(dec.degrees)))\n",
        "\n",
        "from matplotlib import pyplot as plt\n",
        "plt.scatter(ra.hours, dec.degrees, 9 - df['magnitude'], 'k')\n",
        "plt.xlim(7, 4)\n",
        "plt.ylim(-20, 20)\n",
        "# plt.savefig('bright_stars.png')\n",
        "print(' ')\n",
        "print('Super cool but not what I need. Not relative positions from earth ')"
      ],
      "execution_count": 10,
      "outputs": [
        {
          "output_type": "stream",
          "text": [
            "After filtering, there are 93 stars\n",
            "There are 93 right ascensions\n",
            "and 93 declinations\n",
            " \n",
            "Super cool but not what I need. Not relative positions from earth \n"
          ],
          "name": "stdout"
        },
        {
          "output_type": "display_data",
          "data": {
            "image/png": "[encoded data removed]",
            "text/plain": [
              "<Figure size 432x288 with 1 Axes>"
            ]
          },
          "metadata": {
            "tags": []
          }
        }
      ]
    },
    {
      "metadata": {
        "id": "Xe4RApR73QEs",
        "colab_type": "text"
      },
      "cell_type": "markdown",
      "source": [
        "# Generating Positions of Stars\n",
        "\n",
        "The zenith is the point exactly overheard when you look up from the ground. Which is 90 degs from the horizon. 90degs Altitude"
      ]
    },
    {
      "metadata": {
        "id": "TtGq4_fe3OuG",
        "colab_type": "code",
        "colab": {
          "base_uri": "https://localhost:8080/",
          "height": 85
        },
        "outputId": "0a216f65-d40e-42fa-c6db-f3ebdfb01fca"
      },
      "cell_type": "code",
      "source": [
        "from skyfield.positionlib import ICRF\n",
        "\n",
        "x = 3141.0\n",
        "y = 2718.0\n",
        "z = 5820.0\n",
        "vec = ICRF([x, y, z]) \n",
        "\n",
        "from skyfield.api import Star, Topos, load\n",
        "\n",
        "ts = load.timescale()\n",
        "t = ts.now()\n",
        "# tying in time\n",
        "# https://rhodesmill.org/skyfield/time.html \n",
        "\n",
        "planets = load('de421.bsp')\n",
        "mars = planets['mars']\n",
        "barnard = Star(ra_hours=(17, 57, 48.49803),\n",
        "               dec_degrees=(4, 41, 36.2072))\n",
        "\n",
        "\n",
        "# From the center of the Earth (Geocentric)\n",
        "\n",
        "earth = planets['earth']\n",
        "astrometric = earth.at(t).observe(mars)\n",
        "apparent = earth.at(t).observe(mars).apparent()\n",
        "  # can replace mars with barnard\n",
        "  \n",
        " \n",
        "# From a place on Earth (Topocentric)\n",
        "\n",
        "boston = earth + Topos('42.3583 N', '71.0603 W')\n",
        "astrometric = boston.at(t).observe(mars)\n",
        "apparent = boston.at(t).observe(mars).apparent()\n",
        "  # can replace mars with barnard \n",
        "  \n",
        "  \n",
        "# Altitude and azimuth in the sky of a\n",
        "# specific geographic location\n",
        "\n",
        "\n",
        "astro = boston.at(ts.utc(1980, 3, 1)).observe(mars)\n",
        "app = astro.apparent()\n",
        "\n",
        "alt, az, distance = app.altaz()\n",
        "print(alt.dstr())\n",
        "print(az.dstr())\n",
        "print(distance)\n",
        "\n",
        "print('So Mars was more than 24° above the horizon for Bostonians on 1980 March 1 at midnight UTC.')"
      ],
      "execution_count": 11,
      "outputs": [
        {
          "output_type": "stream",
          "text": [
            "24deg 30' 27.2\"\n",
            "93deg 04' 29.5\"\n",
            "0.678874 au\n",
            "So Mars was more than 24° above the horizon for Bostonians on 1980 March 1 at midnight UTC.\n"
          ],
          "name": "stdout"
        }
      ]
    },
    {
      "metadata": {
        "id": "baXoEDCGSLX-",
        "colab_type": "text"
      },
      "cell_type": "markdown",
      "source": [
        "#Weather Affects Refraction of Light from Stars\n",
        "The altitude returned from a plain altaz() call is the ideal position that you would observe if the Earth had no atmosphere. You can also ask Skyfield to estimate where an object might actually appear in the sky after the Earth’s atmosphere has refracted its image higher. If you know the weather conditions, you can specify them."
      ]
    },
    {
      "metadata": {
        "id": "yJCq_vYVSMsy",
        "colab_type": "code",
        "colab": {
          "base_uri": "https://localhost:8080/",
          "height": 34
        },
        "outputId": "c46e0041-d8e3-4fb3-b32a-e3ccdfbceb4f"
      },
      "cell_type": "code",
      "source": [
        "alt, az, distance = app.altaz(temperature_C=15.0,\n",
        "                              pressure_mbar=1005.0)\n",
        "# or use standard for rough simulation \n",
        "# alt, az, distance = app.altaz('standard')\n",
        "print(alt.dstr())"
      ],
      "execution_count": 12,
      "outputs": [
        {
          "output_type": "stream",
          "text": [
            "24deg 32' 34.1\"\n"
          ],
          "name": "stdout"
        }
      ]
    },
    {
      "metadata": {
        "id": "TAhcv39_qtwT",
        "colab_type": "text"
      },
      "cell_type": "markdown",
      "source": [
        "#Figuring out how to plot\n",
        "\n",
        "We're gonna use Astropy\n"
      ]
    },
    {
      "metadata": {
        "colab_type": "code",
        "outputId": "79862a96-d3ae-4c81-9691-456b001f70e9",
        "id": "mg-T-HYj_c9Y",
        "colab": {
          "base_uri": "https://localhost:8080/",
          "height": 85
        }
      },
      "cell_type": "code",
      "source": [
        "!pip install astropy\n",
        "from astropy.time import Time\n",
        "from skyfield.api import load\n",
        "\n",
        "atime = Time('2010-01-01T00:00:00', scale='utc')\n",
        "print(atime)\n",
        "\n",
        "ts = load.timescale()\n",
        "t = ts.from_astropy(atime)\n",
        "print(t.utc_jpl())\n",
        "\n",
        "# Convert Positions \n",
        "import astropy.units as u\n",
        "from skyfield.api import load\n",
        "\n",
        "planets = load('de421.bsp')\n",
        "earth = planets['earth']\n",
        "\n",
        "ts = load.timescale()\n",
        "t = ts.utc(1980, 1, 1)\n",
        "apparent = earth.at(t)\n",
        "\n",
        "print(apparent.position.to(u.au))\n",
        "print(apparent.velocity.to(u.au / u.day))"
      ],
      "execution_count": 0,
      "outputs": [
        {
          "output_type": "stream",
          "text": [
            "2010-01-01T00:00:00.000\n",
            "A.D. 2010-Jan-01 00:00:00.0000 UT\n",
            "[-0.16287311  0.88787399  0.38473904] AU\n",
            "[-0.01721258 -0.00279426 -0.0012121 ] AU / d\n"
          ],
          "name": "stdout"
        }
      ]
    }
  ]
}